{
 "cells": [
  {
   "cell_type": "markdown",
   "id": "b8d4d686",
   "metadata": {},
   "source": [
    "💡 Question 1 Given an integer array nums of 2n integers, group these integers into n pairs (a1, b1), (a2, b2),..., (an, bn) such that the sum of min(ai, bi) for all i is maximized. Return the maximized sum.\n",
    "\n",
    "Example 1: Input: nums = [1,4,3,2] Output: 4\n",
    "\n",
    "Explanation: All possible pairings (ignoring the ordering of elements) are:\n",
    "\n",
    "1. (1, 4), (2, 3) -> min(1, 4) + min(2, 3) = 1 + 2 = 3\n",
    "2. (1, 3), (2, 4) -> min(1, 3) + min(2, 4) = 1 + 2 = 3\n",
    "3. (1, 2), (3, 4) -> min(1, 2) + min(3, 4) = 1 + 3 = 4 \n",
    "\n",
    "So the maximum possible sum is 4m"
   ]
  },
  {
   "cell_type": "code",
   "execution_count": 1,
   "id": "e27fd235",
   "metadata": {},
   "outputs": [],
   "source": [
    "def array_pair_sum(nums):\n",
    "    nums.sort()  # Sort the array in ascending order\n",
    "    max_sum = 0\n",
    "\n",
    "    for i in range(0, len(nums), 2):\n",
    "        max_sum += min(nums[i], nums[i+1])\n",
    "\n",
    "    return max_sum"
   ]
  },
  {
   "cell_type": "code",
   "execution_count": 2,
   "id": "ec4cf633",
   "metadata": {},
   "outputs": [
    {
     "data": {
      "text/plain": [
       "4"
      ]
     },
     "execution_count": 2,
     "metadata": {},
     "output_type": "execute_result"
    }
   ],
   "source": [
    "array_pair_sum([1,4,3,2])"
   ]
  },
  {
   "cell_type": "markdown",
   "id": "abea6b32",
   "metadata": {},
   "source": [
    "Question 2 Alice has n candies, where the ith candy is of type candyType[i]. Alice noticed that she started to gain weight, so she visited a doctor.\n",
    "\n",
    "The doctor advised Alice to only eat n / 2 of the candies she has (n is always even). Alice likes her candies very much, and she wants to eat the maximum number of different types of candies while still following the doctor's advice.\n",
    "\n",
    "Given the integer array candyType of length n, return the maximum number of different types of candies she can eat if she only eats n / 2 of them.\n",
    "\n",
    "Example 1: Input: candyType = [1,1,2,2,3,3] Output: 3\n",
    "\n",
    "Explanation: Alice can only eat 6 / 2 = 3 candies. Since there are only 3 types, she can eat one of each type."
   ]
  },
  {
   "cell_type": "code",
   "execution_count": 3,
   "id": "d881cf60",
   "metadata": {},
   "outputs": [],
   "source": [
    "def max_candies(candyType):\n",
    "    unique_candies = set()\n",
    "\n",
    "    for candy in candyType:\n",
    "        unique_candies.add(candy)\n",
    "\n",
    "    return min(len(unique_candies), len(candyType) // 2)"
   ]
  },
  {
   "cell_type": "code",
   "execution_count": 4,
   "id": "875d67f7",
   "metadata": {},
   "outputs": [
    {
     "data": {
      "text/plain": [
       "3"
      ]
     },
     "execution_count": 4,
     "metadata": {},
     "output_type": "execute_result"
    }
   ],
   "source": [
    "max_candies( [1,1,2,2,3,3])"
   ]
  },
  {
   "cell_type": "markdown",
   "id": "b480926a",
   "metadata": {},
   "source": [
    "Question 3 We define a harmonious array as an array where the difference between its maximum value and its minimum value is exactly 1.\n",
    "\n",
    "Given an integer array nums, return the length of its longest harmonious subsequence among all its possible subsequences.\n",
    "\n",
    "A subsequence of an array is a sequence that can be derived from the array by deleting some or no elements without changing the order of the remaining elements.\n",
    "\n",
    "Example 1: Input: nums = [1,3,2,2,5,2,3,7] Output: 5\n",
    "\n",
    "Explanation: The longest harmonious subsequence is [3,2,2,2,3]."
   ]
  },
  {
   "cell_type": "code",
   "execution_count": 5,
   "id": "87f4bdad",
   "metadata": {},
   "outputs": [],
   "source": [
    "from collections import defaultdict\n",
    "\n",
    "def findLHS(nums):\n",
    "    freq = defaultdict(int)\n",
    "\n",
    "    for num in nums:\n",
    "        freq[num] += 1\n",
    "\n",
    "    max_length = 0\n",
    "\n",
    "    for num in freq:\n",
    "        if num + 1 in freq:\n",
    "            length = freq[num] + freq[num + 1]\n",
    "            max_length = max(max_length, length)\n",
    "\n",
    "    return max_length\n"
   ]
  },
  {
   "cell_type": "code",
   "execution_count": 6,
   "id": "3ccc711c",
   "metadata": {},
   "outputs": [
    {
     "data": {
      "text/plain": [
       "5"
      ]
     },
     "execution_count": 6,
     "metadata": {},
     "output_type": "execute_result"
    }
   ],
   "source": [
    "findLHS([1,3,2,2,5,2,3,7])"
   ]
  },
  {
   "cell_type": "markdown",
   "id": "96db35a8",
   "metadata": {},
   "source": [
    "Question 4\n",
    "You have a long flowerbed in which some of the plots are planted, and some are not.\n",
    "However, flowers cannot be planted in adjacent plots.\n",
    "Given an integer array flowerbed containing 0's and 1's, where 0 means empty and 1 means not empty, and an integer n, return true if n new flowers can be planted in the flowerbed without violating the no-adjacent-flowers rule and false otherwise.\n",
    "\n",
    "Example 1:\n",
    "Input: flowerbed = [1,0,0,0,1], n = 1\n",
    "Output: true"
   ]
  },
  {
   "cell_type": "code",
   "execution_count": 7,
   "id": "bf998419",
   "metadata": {},
   "outputs": [],
   "source": [
    "def canPlaceFlowers(flowerbed, n):\n",
    "    count = 0\n",
    "    length = len(flowerbed)\n",
    "\n",
    "    for i in range(length):\n",
    "        if flowerbed[i] == 0 and (i == 0 or flowerbed[i - 1] == 0) and (i == length - 1 or flowerbed[i + 1] == 0):\n",
    "            flowerbed[i] = 1\n",
    "            count += 1\n",
    "\n",
    "    return count >= n\n"
   ]
  },
  {
   "cell_type": "code",
   "execution_count": 8,
   "id": "812cbeeb",
   "metadata": {},
   "outputs": [
    {
     "data": {
      "text/plain": [
       "True"
      ]
     },
     "execution_count": 8,
     "metadata": {},
     "output_type": "execute_result"
    }
   ],
   "source": [
    "canPlaceFlowers([1,0,0,0,1], 1)"
   ]
  },
  {
   "cell_type": "markdown",
   "id": "bc3f144a",
   "metadata": {},
   "source": [
    "Question 5 Given an integer array nums, find three numbers whose product is maximum and return the maximum product.\n",
    "\n",
    "Example 1: Input: nums = [1,2,3] Output: 6"
   ]
  },
  {
   "cell_type": "code",
   "execution_count": 9,
   "id": "0fe6b25b",
   "metadata": {},
   "outputs": [],
   "source": [
    "def maximumProduct(nums):\n",
    "    nums.sort()  # Sort the array in ascending order\n",
    "\n",
    "    product1 = nums[-1] * nums[-2] * nums[-3]  # Product of the last three numbers\n",
    "    product2 = nums[0] * nums[1] * nums[-1]  # Product of the first two and last number\n",
    "\n",
    "    return max(product1, product2)"
   ]
  },
  {
   "cell_type": "code",
   "execution_count": 10,
   "id": "e1f94dc4",
   "metadata": {},
   "outputs": [
    {
     "data": {
      "text/plain": [
       "6"
      ]
     },
     "execution_count": 10,
     "metadata": {},
     "output_type": "execute_result"
    }
   ],
   "source": [
    "maximumProduct([1,2,3])"
   ]
  },
  {
   "cell_type": "markdown",
   "id": "c1fe9348",
   "metadata": {},
   "source": [
    "Question 6 Given an array of integers nums which is sorted in ascending order, and an integer target, write a function to search target in nums. If target exists, then return its index. Otherwise, return -1.\n",
    "\n",
    "You must write an algorithm with O(log n) runtime complexity.\n",
    "\n",
    "Input: nums = [-1,0,3,5,9,12], target = 9 Output: 4\n",
    "\n",
    "Explanation: 9 exists in nums and its index is 4"
   ]
  },
  {
   "cell_type": "code",
   "execution_count": 11,
   "id": "b5abdd23",
   "metadata": {},
   "outputs": [],
   "source": [
    "def search(nums, target):\n",
    "    left = 0\n",
    "    right = len(nums) - 1\n",
    "\n",
    "    while left <= right:\n",
    "        mid = left + (right - left) // 2\n",
    "\n",
    "        if nums[mid] == target:\n",
    "            return mid\n",
    "        elif target < nums[mid]:\n",
    "            right = mid - 1\n",
    "        else:\n",
    "            left = mid + 1\n",
    "\n",
    "    return -1"
   ]
  },
  {
   "cell_type": "code",
   "execution_count": 12,
   "id": "e1e76776",
   "metadata": {},
   "outputs": [
    {
     "data": {
      "text/plain": [
       "4"
      ]
     },
     "execution_count": 12,
     "metadata": {},
     "output_type": "execute_result"
    }
   ],
   "source": [
    "search([-1,0,3,5,9,12], 9)"
   ]
  },
  {
   "cell_type": "markdown",
   "id": "533481ff",
   "metadata": {},
   "source": [
    "Question 7\n",
    "An array is monotonic if it is either monotone increasing or monotone decreasing.\n",
    "\n",
    "An array nums is monotone increasing if for all i <= j, nums[i] <= nums[j]. An array nums is\n",
    "monotone decreasing if for all i <= j, nums[i] >= nums[j].\n",
    "\n",
    "Given an integer array nums, return true if the given array is monotonic, or false otherwise.\n",
    "\n",
    "Example 1:\n",
    "Input: nums = [1,2,2,3]\n",
    "Output: true"
   ]
  },
  {
   "cell_type": "code",
   "execution_count": 13,
   "id": "db22e1e0",
   "metadata": {},
   "outputs": [],
   "source": [
    "def isMonotonic(nums):\n",
    "    increasing = True\n",
    "    decreasing = True\n",
    "\n",
    "    for i in range(1, len(nums)):\n",
    "        if nums[i] < nums[i - 1]:\n",
    "            increasing = False\n",
    "        if nums[i] > nums[i - 1]:\n",
    "            decreasing = False\n",
    "        if not increasing and not decreasing:\n",
    "            break\n",
    "\n",
    "    return increasing or decreasing\n"
   ]
  },
  {
   "cell_type": "code",
   "execution_count": 14,
   "id": "2ca6c5df",
   "metadata": {},
   "outputs": [
    {
     "data": {
      "text/plain": [
       "True"
      ]
     },
     "execution_count": 14,
     "metadata": {},
     "output_type": "execute_result"
    }
   ],
   "source": [
    "isMonotonic([1,2,2,3])"
   ]
  },
  {
   "cell_type": "markdown",
   "id": "100ba7e1",
   "metadata": {},
   "source": [
    "Question 8 You are given an integer array nums and an integer k.\n",
    "\n",
    "In one operation, you can choose any index i where 0 <= i < nums.length and change nums[i] to nums[i] + x where x is an integer from the range [-k, k]. You can apply this operation at most once for each index i.\n",
    "\n",
    "The score of nums is the difference between the maximum and minimum elements in nums.\n",
    "\n",
    "Return the minimum score of nums after applying the mentioned operation at most once for each index in it.\n",
    "\n",
    "Example 1: Input: nums = [1], k = 0 Output: 0\n",
    "\n",
    "Explanation: The score is max(nums) - min(nums) = 1 - 1 = 0."
   ]
  },
  {
   "cell_type": "code",
   "execution_count": 15,
   "id": "d6b705d9",
   "metadata": {},
   "outputs": [],
   "source": [
    "def minimumScore(nums, k):\n",
    "    minimum = min(nums)\n",
    "    maximum = max(nums)\n",
    "\n",
    "    if maximum - minimum <= 2 * k:\n",
    "        return 0\n",
    "\n",
    "    candidate_scores = [(maximum - k) - (minimum + k), (maximum - k) - minimum, maximum - (minimum + k), maximum - minimum]\n",
    "\n",
    "    return min(candidate_scores)"
   ]
  },
  {
   "cell_type": "code",
   "execution_count": 16,
   "id": "29b68d49",
   "metadata": {},
   "outputs": [
    {
     "data": {
      "text/plain": [
       "0"
      ]
     },
     "execution_count": 16,
     "metadata": {},
     "output_type": "execute_result"
    }
   ],
   "source": [
    "minimumScore([1], 0)"
   ]
  }
 ],
 "metadata": {
  "kernelspec": {
   "display_name": "Python 3 (ipykernel)",
   "language": "python",
   "name": "python3"
  },
  "language_info": {
   "codemirror_mode": {
    "name": "ipython",
    "version": 3
   },
   "file_extension": ".py",
   "mimetype": "text/x-python",
   "name": "python",
   "nbconvert_exporter": "python",
   "pygments_lexer": "ipython3",
   "version": "3.10.9"
  }
 },
 "nbformat": 4,
 "nbformat_minor": 5
}
