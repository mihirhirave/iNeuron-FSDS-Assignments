{
 "cells": [
  {
   "cell_type": "markdown",
   "id": "a9ea9a29",
   "metadata": {},
   "source": [
    "<aside>\n",
    "💡 **Question 1**\n",
    "\n",
    "Given two strings s1 and s2, return *the lowest **ASCII** sum of deleted characters to make two strings equal*.\n",
    "\n",
    "**Example 1:**\n",
    "\n",
    "**Input:** s1 = \"sea\", s2 = \"eat\"\n",
    "\n",
    "**Output:** 231\n",
    "\n",
    "**Explanation:** Deleting \"s\" from \"sea\" adds the ASCII value of \"s\" (115) to the sum.\n",
    "\n",
    "Deleting \"t\" from \"eat\" adds 116 to the sum.\n",
    "\n",
    "At the end, both strings are equal, and 115 + 116 = 231 is the minimum sum possible to achieve this.\n",
    "\n",
    "</aside>"
   ]
  },
  {
   "cell_type": "code",
   "execution_count": 2,
   "id": "619d91ad",
   "metadata": {},
   "outputs": [],
   "source": [
    "def minimumDeleteSum(s1, s2):\n",
    "    m, n = len(s1), len(s2)\n",
    "    dp = [[0] * (n+1) for _ in range(m+1)]\n",
    "\n",
    "    for i in range(1, m+1):\n",
    "        dp[i][0] = dp[i-1][0] + ord(s1[i-1])\n",
    "\n",
    "    for j in range(1, n+1):\n",
    "        dp[0][j] = dp[0][j-1] + ord(s2[j-1])\n",
    "\n",
    "    for i in range(1, m+1):\n",
    "        for j in range(1, n+1):\n",
    "            if s1[i-1] == s2[j-1]:\n",
    "                dp[i][j] = dp[i-1][j-1]\n",
    "            else:\n",
    "                dp[i][j] = min(dp[i-1][j] + ord(s1[i-1]), dp[i][j-1] + ord(s2[j-1]))\n",
    "\n",
    "    return dp[m][n]"
   ]
  },
  {
   "cell_type": "code",
   "execution_count": 3,
   "id": "ddbde583",
   "metadata": {},
   "outputs": [
    {
     "data": {
      "text/plain": [
       "231"
      ]
     },
     "execution_count": 3,
     "metadata": {},
     "output_type": "execute_result"
    }
   ],
   "source": [
    " minimumDeleteSum(\"sea\", \"eat\")"
   ]
  },
  {
   "cell_type": "markdown",
   "id": "3de225b4",
   "metadata": {},
   "source": [
    "<aside>\n",
    "💡 **Question 2**\n",
    "\n",
    "Given a string s containing only three types of characters: '(', ')' and '*', return true *if* s *is **valid***.\n",
    "\n",
    "The following rules define a **valid** string:\n",
    "\n",
    "- Any left parenthesis '(' must have a corresponding right parenthesis ')'.\n",
    "- Any right parenthesis ')' must have a corresponding left parenthesis '('.\n",
    "- Left parenthesis '(' must go before the corresponding right parenthesis ')'.\n",
    "- '*' could be treated as a single right parenthesis ')' or a single left parenthesis '(' or an empty string \"\".\n",
    "\n",
    "**Example 1:**\n",
    "\n",
    "**Input:** s = \"()\"\n",
    "\n",
    "**Output:**\n",
    "\n",
    "true\n",
    "\n",
    "</aside>"
   ]
  },
  {
   "cell_type": "code",
   "execution_count": 4,
   "id": "d7767f5f",
   "metadata": {},
   "outputs": [],
   "source": [
    "def checkValidString(s):\n",
    "    left_parentheses = []\n",
    "    asterisks = []\n",
    "\n",
    "    for i, char in enumerate(s):\n",
    "        if char == '(':\n",
    "            left_parentheses.append(i)\n",
    "        elif char == '*':\n",
    "            asterisks.append(i)\n",
    "        else:  # char == ')'\n",
    "            if left_parentheses:\n",
    "                left_parentheses.pop()\n",
    "            elif asterisks:\n",
    "                asterisks.pop()\n",
    "            else:\n",
    "                return False\n",
    "\n",
    "    while left_parentheses and asterisks:\n",
    "        if left_parentheses[-1] > asterisks[-1]:\n",
    "            return False\n",
    "        left_parentheses.pop()\n",
    "        asterisks.pop()\n",
    "\n",
    "    return len(left_parentheses) == 0"
   ]
  },
  {
   "cell_type": "code",
   "execution_count": 5,
   "id": "689feb9c",
   "metadata": {},
   "outputs": [
    {
     "data": {
      "text/plain": [
       "True"
      ]
     },
     "execution_count": 5,
     "metadata": {},
     "output_type": "execute_result"
    }
   ],
   "source": [
    "checkValidString(\"()\")"
   ]
  },
  {
   "cell_type": "markdown",
   "id": "dbd74883",
   "metadata": {},
   "source": [
    "<aside>\n",
    "💡 **Question 3**\n",
    "\n",
    "Given two strings word1 and word2, return *the minimum number of **steps** required to make* word1 *and* word2 *the same*.\n",
    "\n",
    "In one **step**, you can delete exactly one character in either string.\n",
    "\n",
    "**Example 1:**\n",
    "\n",
    "**Input:** word1 = \"sea\", word2 = \"eat\"\n",
    "\n",
    "**Output:** 2\n",
    "\n",
    "**Explanation:** You need one step to make \"sea\" to \"ea\" and another step to make \"eat\" to \"ea\".\n",
    "\n",
    "</aside>"
   ]
  },
  {
   "cell_type": "code",
   "execution_count": 6,
   "id": "b2be5d69",
   "metadata": {},
   "outputs": [],
   "source": [
    "def minDistance(word1, word2):\n",
    "    m, n = len(word1), len(word2)\n",
    "    dp = [[0] * (n+1) for _ in range(m+1)]\n",
    "\n",
    "    for i in range(m+1):\n",
    "        dp[i][0] = i\n",
    "\n",
    "    for j in range(n+1):\n",
    "        dp[0][j] = j\n",
    "\n",
    "    for i in range(1, m+1):\n",
    "        for j in range(1, n+1):\n",
    "            if word1[i-1] == word2[j-1]:\n",
    "                dp[i][j] = dp[i-1][j-1]\n",
    "            else:\n",
    "                dp[i][j] = min(dp[i-1][j] + 1, dp[i][j-1] + 1)\n",
    "\n",
    "    return dp[m][n]"
   ]
  },
  {
   "cell_type": "code",
   "execution_count": 7,
   "id": "da54daa9",
   "metadata": {},
   "outputs": [
    {
     "data": {
      "text/plain": [
       "2"
      ]
     },
     "execution_count": 7,
     "metadata": {},
     "output_type": "execute_result"
    }
   ],
   "source": [
    "minDistance(\"sea\", \"eat\")"
   ]
  },
  {
   "cell_type": "markdown",
   "id": "9ea01114",
   "metadata": {},
   "source": [
    "<aside>\n",
    "💡 **Question 4**\n",
    "\n",
    "You need to construct a binary tree from a string consisting of parenthesis and integers.\n",
    "\n",
    "The whole input represents a binary tree. It contains an integer followed by zero, one or two pairs of parenthesis. The integer represents the root's value and a pair of parenthesis contains a child binary tree with the same structure.\n",
    "You always start to construct the **left** child node of the parent first if it exists.\n",
    "\n",
    "**Input:** s = \"4(2(3)(1))(6(5))\"\n",
    "\n",
    "**Output:** [4,2,6,3,1,5]\n",
    "    \n",
    "</aside>"
   ]
  },
  {
   "cell_type": "code",
   "execution_count": 18,
   "id": "abf37bba",
   "metadata": {},
   "outputs": [
    {
     "name": "stdout",
     "output_type": "stream",
     "text": [
      "4 2 3 1 6 5 "
     ]
    }
   ],
   "source": [
    "class newNode:\n",
    "    def __init__(self, data):\n",
    "        self.data = data\n",
    "        self.left = self.right = None\n",
    " \n",
    "# This function is here just to test\n",
    " \n",
    " \n",
    "def preOrder(node):\n",
    "    if (node == None):\n",
    "        return\n",
    "    print(node.data, end=' ')\n",
    "    preOrder(node.left)\n",
    "    preOrder(node.right)\n",
    " \n",
    "# function to return the index of\n",
    "# close parenthesis\n",
    " \n",
    " \n",
    "def findIndex(Str, si, ei):\n",
    "    if (si > ei):\n",
    "        return -1\n",
    " \n",
    "    # Inbuilt stack\n",
    "    s = []\n",
    "    for i in range(si, ei + 1):\n",
    " \n",
    "        # if open parenthesis, push it\n",
    "        if (Str[i] == '('):\n",
    "            s.append(Str[i])\n",
    " \n",
    "        # if close parenthesis\n",
    "        elif (Str[i] == ')'):\n",
    "            if (s[-1] == '('):\n",
    "                s.pop(-1)\n",
    " \n",
    "                # if stack is empty, this is\n",
    "                # the required index\n",
    "                if len(s) == 0:\n",
    "                    return i\n",
    "    # if not found return -1\n",
    "    return -1\n",
    " \n",
    "# function to conStruct tree from String\n",
    " \n",
    " \n",
    "def treeFromString(Str, si, ei):\n",
    " \n",
    "    # Base case\n",
    "    if (si > ei):\n",
    "        return None\n",
    " \n",
    "    # new root\n",
    "    root = newNode(ord(Str[si]) - ord('0'))\n",
    "    index = -1\n",
    " \n",
    "    # if next char is '(' find the\n",
    "    # index of its complement ')'\n",
    "    if (si + 1 <= ei and Str[si + 1] == '('):\n",
    "        index = findIndex(Str, si + 1, ei)\n",
    " \n",
    "    # if index found\n",
    "    if (index != -1):\n",
    " \n",
    "        # call for left subtree\n",
    "        root.left = treeFromString(Str, si + 2,\n",
    "                                   index - 1)\n",
    " \n",
    "        # call for right subtree\n",
    "        root.right = treeFromString(Str, index + 2,\n",
    "                                    ei - 1)\n",
    "    return root\n",
    "\n",
    " \n",
    "# Driver Code\n",
    "if __name__ == '__main__':\n",
    "    Str = \"4(2(3)(1))(6(5))\"\n",
    "    root = treeFromString(Str, 0, len(Str) - 1)\n",
    "    preOrder(root)"
   ]
  },
  {
   "cell_type": "markdown",
   "id": "cc6fe660",
   "metadata": {},
   "source": [
    "<aside>\n",
    "💡 **Question 5**\n",
    "\n",
    "Given an array of characters chars, compress it using the following algorithm:\n",
    "\n",
    "Begin with an empty string s. For each group of **consecutive repeating characters** in chars:\n",
    "\n",
    "- If the group's length is 1, append the character to s.\n",
    "- Otherwise, append the character followed by the group's length.\n",
    "\n",
    "The compressed string s **should not be returned separately**, but instead, be stored **in the input character array chars**. Note that group lengths that are 10 or longer will be split into multiple characters in chars.\n",
    "\n",
    "After you are done **modifying the input array,** return *the new length of the array*.\n",
    "\n",
    "You must write an algorithm that uses only constant extra space.\n",
    "\n",
    "**Example 1:**\n",
    "\n",
    "**Input:** chars = [\"a\",\"a\",\"b\",\"b\",\"c\",\"c\",\"c\"]\n",
    "\n",
    "**Output:** Return 6, and the first 6 characters of the input array should be: [\"a\",\"2\",\"b\",\"2\",\"c\",\"3\"]\n",
    "\n",
    "**Explanation:**\n",
    "\n",
    "The groups are \"aa\", \"bb\", and \"ccc\". This compresses to \"a2b2c3\".\n",
    "\n",
    "</aside>"
   ]
  },
  {
   "cell_type": "code",
   "execution_count": 23,
   "id": "8ca16362",
   "metadata": {},
   "outputs": [],
   "source": [
    "def compress(chars):\n",
    "    read = 0  # Read pointer\n",
    "    write = 0  # Write pointer\n",
    "\n",
    "    while read < len(chars):\n",
    "        char = chars[read]\n",
    "        count = 0  # Count of consecutive repeating characters\n",
    "\n",
    "        # Count the number of consecutive occurrences of the current character\n",
    "        while read < len(chars) and chars[read] == char:\n",
    "            read += 1\n",
    "            count += 1\n",
    "\n",
    "        # Write the compressed character\n",
    "        chars[write] = char\n",
    "        write += 1\n",
    "\n",
    "        # Write the count if it is greater than 1\n",
    "        if count > 1:\n",
    "            count_str = str(count)\n",
    "            for digit in count_str:\n",
    "                chars[write] = digit\n",
    "                write += 1\n",
    "        \n",
    "\n",
    "    return write"
   ]
  },
  {
   "cell_type": "code",
   "execution_count": 24,
   "id": "efd2d3a5",
   "metadata": {},
   "outputs": [
    {
     "data": {
      "text/plain": [
       "6"
      ]
     },
     "execution_count": 24,
     "metadata": {},
     "output_type": "execute_result"
    }
   ],
   "source": [
    "compress([\"a\",\"a\",\"b\",\"b\",\"c\",\"c\",\"c\"])"
   ]
  },
  {
   "cell_type": "markdown",
   "id": "995f5ec4",
   "metadata": {},
   "source": [
    "<aside>\n",
    "💡 **Question 6**\n",
    "\n",
    "Given two strings s and p, return *an array of all the start indices of* p*'s anagrams in* s. You may return the answer in **any order**.\n",
    "\n",
    "An **Anagram** is a word or phrase formed by rearranging the letters of a different word or phrase, typically using all the original letters exactly once.\n",
    "\n",
    "**Example 1:**\n",
    "\n",
    "**Input:** s = \"cbaebabacd\", p = \"abc\"\n",
    "\n",
    "**Output:** [0,6]\n",
    "\n",
    "**Explanation:**\n",
    "\n",
    "The substring with start index = 0 is \"cba\", which is an anagram of \"abc\".\n",
    "\n",
    "The substring with start index = 6 is \"bac\", which is an anagram of \"abc\".\n",
    "\n",
    "</aside>"
   ]
  },
  {
   "cell_type": "code",
   "execution_count": 25,
   "id": "ec999156",
   "metadata": {},
   "outputs": [],
   "source": [
    "from collections import Counter\n",
    "\n",
    "def find_anagrams(s, p):\n",
    "    result = []  # List to store the start indices of anagrams\n",
    "\n",
    "    if len(p) > len(s):\n",
    "        return result\n",
    "\n",
    "    p_counter = Counter(p)\n",
    "    window_counter = Counter(s[:len(p)])  # Initialize the window counter\n",
    "\n",
    "    if p_counter == window_counter:\n",
    "        result.append(0)\n",
    "\n",
    "    # Slide the window through the remaining characters of s\n",
    "    for i in range(len(p), len(s)):\n",
    "        left_char = s[i - len(p)]  # Leftmost character of the previous window\n",
    "        new_char = s[i]  # New character in the current window\n",
    "\n",
    "        # Update the window counter by removing the leftmost character and adding the new character\n",
    "        if window_counter[left_char] == 1:\n",
    "            del window_counter[left_char]\n",
    "        else:\n",
    "            window_counter[left_char] -= 1\n",
    "        window_counter[new_char] += 1\n",
    "\n",
    "        # Check if the window is an anagram of p\n",
    "        if p_counter == window_counter:\n",
    "            result.append(i - len(p) + 1)\n",
    "\n",
    "    return result"
   ]
  },
  {
   "cell_type": "code",
   "execution_count": 26,
   "id": "28f72a1f",
   "metadata": {},
   "outputs": [
    {
     "data": {
      "text/plain": [
       "[0, 6]"
      ]
     },
     "execution_count": 26,
     "metadata": {},
     "output_type": "execute_result"
    }
   ],
   "source": [
    "find_anagrams(\"cbaebabacd\",\"abc\")"
   ]
  },
  {
   "cell_type": "markdown",
   "id": "1e6be986",
   "metadata": {},
   "source": [
    "<aside>\n",
    "💡 **Question 7**\n",
    "\n",
    "Given an encoded string, return its decoded string.\n",
    "\n",
    "The encoding rule is: k[encoded_string], where the encoded_string inside the square brackets is being repeated exactly k times. Note that k is guaranteed to be a positive integer.\n",
    "\n",
    "You may assume that the input string is always valid; there are no extra white spaces, square brackets are well-formed, etc. Furthermore, you may assume that the original data does not contain any digits and that digits are only for those repeat numbers, k. For example, there will not be input like 3a or 2[4].\n",
    "\n",
    "The test cases are generated so that the length of the output will never exceed 105.\n",
    "\n",
    "**Example 1:**\n",
    "\n",
    "**Input:** s = \"3[a]2[bc]\"\n",
    "\n",
    "**Output:** \"aaabcbc\"\n",
    "\n",
    "</aside>"
   ]
  },
  {
   "cell_type": "code",
   "execution_count": 28,
   "id": "f1d9227f",
   "metadata": {},
   "outputs": [],
   "source": [
    "def decode_string(s):\n",
    "    stack = []  # Stack to store characters and counts\n",
    "\n",
    "    for char in s:\n",
    "        if char == ']':\n",
    "            # Pop characters until '[' is encountered\n",
    "            substring = ''\n",
    "            while stack[-1] != '[':\n",
    "                substring = stack.pop() + substring\n",
    "\n",
    "            # Pop '[' from the stack\n",
    "            stack.pop()\n",
    "\n",
    "            # Pop count from the stack\n",
    "            count = ''\n",
    "            while stack and stack[-1].isdigit():\n",
    "                count = stack.pop() + count\n",
    "\n",
    "            # Repeat the substring by the count and push it back onto the stack\n",
    "            stack.append(int(count) * substring)\n",
    "\n",
    "        else:\n",
    "            stack.append(char)\n",
    "\n",
    "    return ''.join(stack)"
   ]
  },
  {
   "cell_type": "code",
   "execution_count": 29,
   "id": "d9d03691",
   "metadata": {},
   "outputs": [
    {
     "data": {
      "text/plain": [
       "'aaabcbc'"
      ]
     },
     "execution_count": 29,
     "metadata": {},
     "output_type": "execute_result"
    }
   ],
   "source": [
    "decode_string(\"3[a]2[bc]\")"
   ]
  },
  {
   "cell_type": "markdown",
   "id": "838c4a22",
   "metadata": {},
   "source": [
    "<aside>\n",
    "💡 **Question 8**\n",
    "\n",
    "Given two strings s and goal, return true *if you can swap two letters in* s *so the result is equal to* goal*, otherwise, return* false*.*\n",
    "\n",
    "Swapping letters is defined as taking two indices i and j (0-indexed) such that i != j and swapping the characters at s[i] and s[j].\n",
    "\n",
    "- For example, swapping at indices 0 and 2 in \"abcd\" results in \"cbad\".\n",
    "\n",
    "**Example 1:**\n",
    "\n",
    "**Input:** s = \"ab\", goal = \"ba\"\n",
    "\n",
    "**Output:** true\n",
    "\n",
    "**Explanation:** You can swap s[0] = 'a' and s[1] = 'b' to get \"ba\", which is equal to goal.\n",
    "\n",
    "</aside>"
   ]
  },
  {
   "cell_type": "code",
   "execution_count": 30,
   "id": "588bb449",
   "metadata": {},
   "outputs": [],
   "source": [
    "def buddy_strings(s, goal):\n",
    "    if len(s) != len(goal):\n",
    "        return False\n",
    "\n",
    "    if s == goal:\n",
    "        # Check if there are at least two identical characters in s\n",
    "        return len(set(s)) < len(s)\n",
    "\n",
    "    mismatched_pairs = []\n",
    "    for i in range(len(s)):\n",
    "        if s[i] != goal[i]:\n",
    "            mismatched_pairs.append((s[i], goal[i]))\n",
    "\n",
    "    return len(mismatched_pairs) == 2 and mismatched_pairs[0] == mismatched_pairs[1][::-1]"
   ]
  },
  {
   "cell_type": "code",
   "execution_count": 31,
   "id": "5c25492b",
   "metadata": {},
   "outputs": [
    {
     "data": {
      "text/plain": [
       "True"
      ]
     },
     "execution_count": 31,
     "metadata": {},
     "output_type": "execute_result"
    }
   ],
   "source": [
    "buddy_strings(\"ab\",\"ba\")"
   ]
  }
 ],
 "metadata": {
  "kernelspec": {
   "display_name": "Python 3 (ipykernel)",
   "language": "python",
   "name": "python3"
  },
  "language_info": {
   "codemirror_mode": {
    "name": "ipython",
    "version": 3
   },
   "file_extension": ".py",
   "mimetype": "text/x-python",
   "name": "python",
   "nbconvert_exporter": "python",
   "pygments_lexer": "ipython3",
   "version": "3.10.9"
  }
 },
 "nbformat": 4,
 "nbformat_minor": 5
}
