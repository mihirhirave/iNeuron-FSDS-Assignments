{
 "cells": [
  {
   "cell_type": "markdown",
   "id": "9a546eca",
   "metadata": {},
   "source": [
    "<aside>\n",
    "💡 **Question 1**\n",
    "\n",
    "Given an array **arr[ ]** of size **N** having elements, the task is to find the next greater element for each element of the array in order of their appearance in the array.Next greater element of an element in the array is the nearest element on the right which is greater than the current element.If there does not exist next greater of current element, then next greater element for current element is -1. For example, next greater of the last element is always -1.\n",
    "\n",
    "**Example 1:**\n",
    "Input:\n",
    "N = 4, arr[] = [1 3 2 4]\n",
    "Output:\n",
    "3 4 4 -1\n",
    "Explanation:\n",
    "In the array, the next larger element\n",
    "to 1 is 3 , 3 is 4 , 2 is 4 and for 4 ?\n",
    "since it doesn't exist, it is -1.\n",
    "\n",
    "    \n",
    "Example 2:\n",
    "Input:\n",
    "N = 5, arr[] [6 8 0 1 3]\n",
    "Output:\n",
    "8 -1 1 3 -1\n",
    "Explanation:\n",
    "In the array, the next larger element to\n",
    "6 is 8, for 8 there is no larger elements\n",
    "hence it is -1, for 0 it is 1 , for 1 it\n",
    "is 3 and then for 3 there is no larger\n",
    "element on right and hence -1.\n",
    "</aside>"
   ]
  },
  {
   "cell_type": "code",
   "execution_count": 1,
   "id": "3e4d45f9",
   "metadata": {},
   "outputs": [],
   "source": [
    "def printNGE(arr):\n",
    " \n",
    "    for i in range(0, len(arr), 1):\n",
    " \n",
    "        next = -1\n",
    "        for j in range(i+1, len(arr), 1):\n",
    "            if arr[i] < arr[j]:\n",
    "                next = arr[j]\n",
    "                break\n",
    " \n",
    "        print(str(arr[i]) + \" -- \" + str(next))\n",
    "        #print(\"str(next)\")\n",
    "        #print(arr)"
   ]
  },
  {
   "cell_type": "code",
   "execution_count": 2,
   "id": "45873368",
   "metadata": {},
   "outputs": [
    {
     "name": "stdout",
     "output_type": "stream",
     "text": [
      "1 -- 3\n",
      "3 -- 4\n",
      "2 -- 4\n",
      "4 -- -1\n"
     ]
    }
   ],
   "source": [
    "printNGE([1,3, 2, 4])"
   ]
  },
  {
   "cell_type": "code",
   "execution_count": 3,
   "id": "852a1442",
   "metadata": {},
   "outputs": [
    {
     "name": "stdout",
     "output_type": "stream",
     "text": [
      "6 -- 8\n",
      "8 -- -1\n",
      "0 -- 1\n",
      "1 -- 3\n",
      "3 -- -1\n"
     ]
    }
   ],
   "source": [
    "printNGE([6,8, 0,1, 3])"
   ]
  },
  {
   "cell_type": "markdown",
   "id": "4c6dc4e3",
   "metadata": {},
   "source": [
    "<aside>\n",
    "💡 **Question 2**\n",
    "\n",
    "Given an array **a** of integers of length **n**, find the nearest smaller number for every element such that the smaller element is on left side.If no small element present on the left print -1.\n",
    "\n",
    "**Example 1:**\n",
    "Input: n = 3\n",
    "a = {1, 6, 2}\n",
    "Output: -1 1 1\n",
    "Explaination: There is no number at the\n",
    "left of 1. Smaller number than 6 and 2 is 1.\n",
    "\n",
    "\n",
    "Example 2:\n",
    "Input: n = 6\n",
    "a = {1, 5, 0, 3, 4, 5}\n",
    "Output: -1 1 -1 0 3 4\n",
    "Explaination: Upto 3 it is easy to see\n",
    "the smaller numbers. But for 4 the smaller\n",
    "numbers are 1, 0 and 3. But among them 3\n",
    "is closest. Similary for 5 it is 4.\n",
    "</aside>"
   ]
  },
  {
   "cell_type": "code",
   "execution_count": 4,
   "id": "7aec96ca",
   "metadata": {},
   "outputs": [],
   "source": [
    "def find_nearest_smaller(arr):\n",
    "    result = []\n",
    "    stack = []\n",
    "\n",
    "    for num in arr:\n",
    "        while stack and stack[-1] >= num:\n",
    "            stack.pop()\n",
    "\n",
    "        if not stack:\n",
    "            result.append(-1)\n",
    "        else:\n",
    "            result.append(stack[-1])\n",
    "\n",
    "        stack.append(num)\n",
    "\n",
    "    return result"
   ]
  },
  {
   "cell_type": "code",
   "execution_count": 5,
   "id": "dac45333",
   "metadata": {},
   "outputs": [
    {
     "name": "stdout",
     "output_type": "stream",
     "text": [
      "[-1, 1, 1]\n"
     ]
    }
   ],
   "source": [
    "arr = [1, 6, 2]\n",
    "result = find_nearest_smaller(arr)\n",
    "print(result)  "
   ]
  },
  {
   "cell_type": "code",
   "execution_count": 6,
   "id": "55060336",
   "metadata": {},
   "outputs": [
    {
     "name": "stdout",
     "output_type": "stream",
     "text": [
      "[-1, 1, -1, 0, 3, 4]\n"
     ]
    }
   ],
   "source": [
    "arr = [1, 5, 0, 3, 4, 5]\n",
    "result = find_nearest_smaller(arr)\n",
    "print(result)"
   ]
  },
  {
   "cell_type": "markdown",
   "id": "48fc5106",
   "metadata": {},
   "source": [
    "<aside>\n",
    "💡 **Question 3**\n",
    "\n",
    "Implement a Stack using two queues **q1** and **q2**.\n",
    "\n",
    "**Example 1:**\n",
    "Input:\n",
    "push(2)\n",
    "push(3)\n",
    "pop()\n",
    "push(4)\n",
    "pop()\n",
    "Output:3 4\n",
    "Explanation:\n",
    "push(2) the stack will be {2}\n",
    "push(3) the stack will be {2 3}\n",
    "pop()   poped element will be 3 the\n",
    "        stack will be {2}\n",
    "push(4) the stack will be {2 4}\n",
    "pop()   poped element will be 4\n",
    "\n",
    "   \n",
    "Example 2:\n",
    "Input:\n",
    "push(2)\n",
    "pop()\n",
    "pop()\n",
    "push(3)\n",
    "Output:2 -1\n",
    "\n",
    "</aside>"
   ]
  },
  {
   "cell_type": "code",
   "execution_count": 7,
   "id": "26b737bd",
   "metadata": {},
   "outputs": [],
   "source": [
    "class Stack:\n",
    "    def __init__(self):\n",
    "        self.q1 = []\n",
    "        self.q2 = []\n",
    "\n",
    "    def push(self, item):\n",
    "        self.q2.append(item)\n",
    "        while self.q1:\n",
    "            self.q2.append(self.q1.pop(0))\n",
    "        self.q1, self.q2 = self.q2, self.q1\n",
    "\n",
    "    def pop(self):\n",
    "        if not self.q1:\n",
    "            raise IndexError(\"Stack is empty\")\n",
    "        return self.q1.pop(0)\n",
    "\n",
    "    def peek(self):\n",
    "        if not self.q1:\n",
    "            raise IndexError(\"Stack is empty\")\n",
    "        return self.q1[0]\n",
    "\n",
    "    def is_empty(self):\n",
    "        return len(self.q1) == 0\n",
    "\n",
    "    def size(self):\n",
    "        return len(self.q1)\n",
    "\n",
    "\n",
    "def process_input(input_commands):\n",
    "    stack = Stack()\n",
    "    result = []\n",
    "\n",
    "    for command in input_commands:\n",
    "        if command.startswith('push'):\n",
    "            value = int(command.split('(')[1].split(')')[0])\n",
    "            stack.push(value)\n",
    "        elif command == 'pop()':\n",
    "            result.append(stack.pop())\n",
    "\n",
    "    return result"
   ]
  },
  {
   "cell_type": "code",
   "execution_count": 8,
   "id": "234addcd",
   "metadata": {},
   "outputs": [
    {
     "name": "stdout",
     "output_type": "stream",
     "text": [
      "Output: 3 4\n"
     ]
    }
   ],
   "source": [
    "# Example 1\n",
    "input_commands = [\n",
    "    'push(2)',\n",
    "    'push(3)',\n",
    "    'pop()',\n",
    "    'push(4)',\n",
    "    'pop()'\n",
    "]\n",
    "\n",
    "output = process_input(input_commands)\n",
    "print(\"Output:\", ' '.join(map(str, output)))\n"
   ]
  },
  {
   "cell_type": "code",
   "execution_count": null,
   "id": "22d3f2b4",
   "metadata": {},
   "outputs": [],
   "source": [
    "Input:\n",
    "push(2)\n",
    "pop()\n",
    "pop()\n",
    "push(3)\n",
    "Output:2 -1"
   ]
  },
  {
   "cell_type": "markdown",
   "id": "89de4511",
   "metadata": {},
   "source": [
    "<aside>\n",
    "💡 **Question 4**\n",
    "\n",
    "You are given a stack **St**. You have to reverse the stack using recursion.\n",
    "\n",
    "**Example 1:**\n",
    "Input:St = {3,2,1,7,6}\n",
    "Output:{6,7,1,2,3}\n",
    "    \n",
    "Example 2:\n",
    "Input:St = {4,3,9,6}\n",
    "Output:{6,9,3,4}\n",
    "</aside>"
   ]
  },
  {
   "cell_type": "code",
   "execution_count": 27,
   "id": "11051922",
   "metadata": {},
   "outputs": [],
   "source": [
    "def insertAtBottom(stack, item):\n",
    "    if isEmpty(stack):\n",
    "        push(stack, item)\n",
    "    else:\n",
    "        temp = pop(stack)\n",
    "        insertAtBottom(stack, item)\n",
    "        push(stack, temp)\n",
    " \n",
    " \n",
    "def reverse(stack):\n",
    "    if not isEmpty(stack):\n",
    "        temp = pop(stack)\n",
    "        reverse(stack)\n",
    "        insertAtBottom(stack, temp)\n",
    " \n",
    " \n",
    "def createStack():\n",
    "    stack = []\n",
    "    return stack\n",
    "\n",
    " \n",
    " \n",
    "def isEmpty(stack):\n",
    "    return len(stack) == 0\n",
    " \n",
    " \n",
    "def push(stack, item):\n",
    "    stack.append(item)\n",
    " \n",
    "# Function to pop an\n",
    "# item from stack\n",
    " \n",
    " \n",
    "def pop(stack):\n",
    " \n",
    "    # If stack is empty\n",
    "    # then error\n",
    "    if(isEmpty(stack)):\n",
    "        print(\"Stack Underflow \")\n",
    "        exit(1)\n",
    " \n",
    "    return stack.pop()\n",
    " \n",
    "# Function to print the stack\n",
    " \n",
    " \n",
    "def prints(stack):\n",
    "    for i in range(len(stack)-1, -1, -1):\n",
    "        print(stack[i], end=' ')\n",
    "    print()"
   ]
  },
  {
   "cell_type": "code",
   "execution_count": 28,
   "id": "40c25233",
   "metadata": {},
   "outputs": [
    {
     "name": "stdout",
     "output_type": "stream",
     "text": [
      "6 7 1 2 3 \n"
     ]
    }
   ],
   "source": [
    "#Example1\n",
    " \n",
    "stack = createStack()\n",
    "push(stack, str(6))\n",
    "push(stack, str(7))\n",
    "push(stack, str(1))\n",
    "push(stack, str(2))\n",
    "push(stack, str(3))\n",
    "\n",
    "reverse(stack)\n",
    " \n",
    "prints(stack)"
   ]
  },
  {
   "cell_type": "code",
   "execution_count": 29,
   "id": "e0620e15",
   "metadata": {},
   "outputs": [
    {
     "name": "stdout",
     "output_type": "stream",
     "text": [
      "6 9 3 4 \n"
     ]
    }
   ],
   "source": [
    "#Example2\n",
    " \n",
    "stack = createStack()\n",
    "push(stack, str(6))\n",
    "push(stack, str(9))\n",
    "push(stack, str(3))\n",
    "push(stack, str(4))\n",
    "\n",
    "reverse(stack)\n",
    " \n",
    "prints(stack)"
   ]
  },
  {
   "cell_type": "markdown",
   "id": "28b5b93f",
   "metadata": {},
   "source": [
    "<aside>\n",
    "💡 **Question 5**\n",
    "\n",
    "You are given a string **S**, the task is to reverse the string using stack.\n",
    "\n",
    "**Example 1:**\n",
    "Input: S=\"GeeksforGeeks\"\n",
    "Output: skeeGrofskeeG\n",
    "\n",
    "</aside>"
   ]
  },
  {
   "cell_type": "code",
   "execution_count": 21,
   "id": "bfab0816",
   "metadata": {},
   "outputs": [],
   "source": [
    "def size(stack):\n",
    "    return len(stack)\n",
    " \n",
    "# Stack is empty if the size is 0\n",
    " \n",
    " \n",
    "def isEmpty(stack):\n",
    "    if size(stack) == 0:\n",
    "        return true\n",
    " \n",
    "def push(stack, item):\n",
    "    stack.append(item)\n",
    "  \n",
    "def pop(stack):\n",
    "    if isEmpty(stack):\n",
    "        return\n",
    "    return stack.pop()\n",
    "   \n",
    "def reverse(string):\n",
    "    n = len(string)\n",
    " \n",
    "    stack = createStack()\n",
    " \n",
    "    for i in range(0, n, 1):\n",
    "        push(stack, string[i])\n",
    " \n",
    "    string = \"\"\n",
    " \n",
    "    for i in range(0, n, 1):\n",
    "        string += pop(stack)\n",
    " \n",
    "    return string"
   ]
  },
  {
   "cell_type": "code",
   "execution_count": 23,
   "id": "8512a29c",
   "metadata": {},
   "outputs": [
    {
     "name": "stdout",
     "output_type": "stream",
     "text": [
      "skeeGrofskeeG\n"
     ]
    }
   ],
   "source": [
    "# Example1\n",
    "\n",
    "string = \"GeeksforGeeks\"\n",
    "string = reverse(string)\n",
    "print(string)"
   ]
  },
  {
   "cell_type": "markdown",
   "id": "8e1a5f15",
   "metadata": {},
   "source": [
    "<aside>\n",
    "💡 **Question 6**\n",
    "\n",
    "Given string **S** representing a postfix expression, the task is to evaluate the expression and find the final value. Operators will only include the basic arithmetic operators like ***, /, + and -**.\n",
    "\n",
    "**Example 1:**\n",
    "Input: S = \"231*+9-\"\n",
    "Output: -4\n",
    "Explanation:\n",
    "After solving the given expression,\n",
    "we have -4 as result.\n",
    "\n",
    "Example 2:\n",
    "Input: S = \"123+*8-\"\n",
    "Output: -3\n",
    "Explanation:\n",
    "After solving the given postfix\n",
    "expression, we have -3 as result.    \n",
    "</aside>"
   ]
  },
  {
   "cell_type": "code",
   "execution_count": 24,
   "id": "57daa87d",
   "metadata": {},
   "outputs": [],
   "source": [
    "class Evaluate:\n",
    " \n",
    "    # Constructor to initialize the class variables\n",
    "    def __init__(self, capacity):\n",
    "        self.top = -1\n",
    "        self.capacity = capacity\n",
    "         \n",
    "        # This array is used a stack\n",
    "        self.array = []\n",
    " \n",
    "    # Check if the stack is empty\n",
    "    def isEmpty(self):\n",
    "        return True if self.top == -1 else False\n",
    " \n",
    "    # Return the value of the top of the stack\n",
    "    def peek(self):\n",
    "        return self.array[-1]\n",
    " \n",
    "    # Pop the element from the stack\n",
    "    def pop(self):\n",
    "        if not self.isEmpty():\n",
    "            self.top -= 1\n",
    "            return self.array.pop()\n",
    "        else:\n",
    "            return \"$\"\n",
    " \n",
    "    # Push the element to the stack\n",
    "    def push(self, op):\n",
    "        self.top += 1\n",
    "        self.array.append(op)\n",
    " \n",
    "    # The main function that converts given infix expression\n",
    "    # to postfix expression\n",
    "    def evaluatePostfix(self, exp):\n",
    " \n",
    "        # Iterate over the expression for conversion\n",
    "        for i in exp:\n",
    " \n",
    "            # If the scanned character is an operand\n",
    "            # (number here) push it to the stack\n",
    "            if i.isdigit():\n",
    "                self.push(i)\n",
    " \n",
    "            # If the scanned character is an operator,\n",
    "            # pop two elements from stack and apply it.\n",
    "            else:\n",
    "                val1 = self.pop()\n",
    "                val2 = self.pop()\n",
    "                self.push(str(eval(val2 + i + val1)))\n",
    " \n",
    "        return int(self.pop())"
   ]
  },
  {
   "cell_type": "code",
   "execution_count": 25,
   "id": "6ec50269",
   "metadata": {},
   "outputs": [
    {
     "name": "stdout",
     "output_type": "stream",
     "text": [
      "postfix evaluation: -4\n"
     ]
    }
   ],
   "source": [
    "#Example1 \n",
    "if __name__ == '__main__':\n",
    "    exp = \"231*+9-\"\n",
    "    obj = Evaluate(len(exp))\n",
    "     \n",
    "    # Function call\n",
    "    print(\"postfix evaluation: %d\" % (obj.evaluatePostfix(exp)))"
   ]
  },
  {
   "cell_type": "code",
   "execution_count": 26,
   "id": "04c35845",
   "metadata": {},
   "outputs": [
    {
     "name": "stdout",
     "output_type": "stream",
     "text": [
      "postfix evaluation: -3\n"
     ]
    }
   ],
   "source": [
    "#Example2\n",
    "if __name__ == '__main__':\n",
    "    exp = \"123+*8-\"\n",
    "    obj = Evaluate(len(exp))\n",
    "     \n",
    "    # Function call\n",
    "    print(\"postfix evaluation: %d\" % (obj.evaluatePostfix(exp)))"
   ]
  },
  {
   "cell_type": "markdown",
   "id": "5e3f390b",
   "metadata": {},
   "source": [
    "<aside>\n",
    "💡 **Question 7**\n",
    "\n",
    "Design a stack that supports push, pop, top, and retrieving the minimum element in constant time.\n",
    "\n",
    "Implement the `MinStack` class:\n",
    "\n",
    "- `MinStack()` initializes the stack object.\n",
    "- `void push(int val)` pushes the element `val` onto the stack.\n",
    "- `void pop()` removes the element on the top of the stack.\n",
    "- `int top()` gets the top element of the stack.\n",
    "- `int getMin()` retrieves the minimum element in the stack.\n",
    "\n",
    "You must implement a solution with `O(1)` time complexity for each function.\n",
    "\n",
    "**Example 1:**\n",
    "Input\n",
    "[\"MinStack\",\"push\",\"push\",\"push\",\"getMin\",\"pop\",\"top\",\"getMin\"]\n",
    "[[],[-2],[0],[-3],[],[],[],[]]\n",
    "\n",
    "Output\n",
    "[null,null,null,null,-3,null,0,-2]\n",
    "\n",
    "Explanation\n",
    "MinStack minStack = new MinStack();\n",
    "minStack.push(-2);\n",
    "minStack.push(0);\n",
    "minStack.push(-3);\n",
    "minStack.getMin(); // return -3\n",
    "minStack.pop();\n",
    "minStack.top();    // return 0\n",
    "minStack.getMin(); // return -2\n",
    "</aside>"
   ]
  },
  {
   "cell_type": "code",
   "execution_count": null,
   "id": "8d9e0e58",
   "metadata": {},
   "outputs": [],
   "source": []
  },
  {
   "cell_type": "code",
   "execution_count": null,
   "id": "c5c08f1e",
   "metadata": {},
   "outputs": [],
   "source": []
  },
  {
   "cell_type": "markdown",
   "id": "98513574",
   "metadata": {},
   "source": [
    "<aside>\n",
    "💡 **Question 8**\n",
    "\n",
    "Given `n` non-negative integers representing an elevation map where the width of each bar is `1`, compute how much water it can trap after raining.\n",
    "\n",
    "**Example 1:**\n",
    "Input: height = [0,1,0,2,1,0,1,3,2,1,2,1]\n",
    "Output: 6\n",
    "Explanation: The above elevation map (black section) is represented by array [0,1,0,2,1,0,1,3,2,1,2,1]. In this case, 6 units of rain water (blue section) are being trapped.\n",
    "\n",
    "Example 2:\n",
    "Input: height = [4,2,0,3,2,5]\n",
    "Output: 9\n",
    "</aside>"
   ]
  },
  {
   "cell_type": "code",
   "execution_count": 30,
   "id": "c1e29c2c",
   "metadata": {},
   "outputs": [],
   "source": [
    "def maxWater(arr, n):\n",
    "  \n",
    "    # To store the maximum water\n",
    "    # that can be stored\n",
    "    res = 0\n",
    "  \n",
    "    # For every element of the array\n",
    "    for i in range(1, n - 1):\n",
    "  \n",
    "        # Find the maximum element on its left\n",
    "        left = arr[i]\n",
    "        for j in range(i):\n",
    "            left = max(left, arr[j])\n",
    "  \n",
    "        # Find the maximum element on its right\n",
    "        right = arr[i]\n",
    "  \n",
    "        for j in range(i + 1, n):\n",
    "            right = max(right, arr[j])\n",
    "  \n",
    "        # Update the maximum water\n",
    "        res = res + (min(left, right) - arr[i])\n",
    "  \n",
    "    return res"
   ]
  },
  {
   "cell_type": "code",
   "execution_count": 33,
   "id": "04fb1ca3",
   "metadata": {},
   "outputs": [
    {
     "name": "stdout",
     "output_type": "stream",
     "text": [
      "6\n"
     ]
    }
   ],
   "source": [
    "# Example1\n",
    "if __name__ == \"__main__\":\n",
    "  \n",
    "    arr = [0, 1, 0, 2, 1, 0,\n",
    "           1, 3, 2, 1, 2, 1]\n",
    "    n = len(arr)\n",
    "  \n",
    "    print(maxWater(arr, n))"
   ]
  },
  {
   "cell_type": "code",
   "execution_count": 34,
   "id": "12ea02ac",
   "metadata": {},
   "outputs": [
    {
     "name": "stdout",
     "output_type": "stream",
     "text": [
      "9\n"
     ]
    }
   ],
   "source": [
    "# Example2\n",
    "if __name__ == \"__main__\":\n",
    "  \n",
    "    arr = [4,2,0,3,2,5]\n",
    "    n = len(arr)\n",
    "  \n",
    "    print(maxWater(arr, n))"
   ]
  }
 ],
 "metadata": {
  "kernelspec": {
   "display_name": "Python 3 (ipykernel)",
   "language": "python",
   "name": "python3"
  },
  "language_info": {
   "codemirror_mode": {
    "name": "ipython",
    "version": 3
   },
   "file_extension": ".py",
   "mimetype": "text/x-python",
   "name": "python",
   "nbconvert_exporter": "python",
   "pygments_lexer": "ipython3",
   "version": "3.10.9"
  }
 },
 "nbformat": 4,
 "nbformat_minor": 5
}
