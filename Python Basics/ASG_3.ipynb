{
 "cells": [
  {
   "cell_type": "markdown",
   "id": "8c191aa2",
   "metadata": {},
   "source": [
    "### 1. Why are functions advantageous to have in your programs?\n",
    "\n",
    "### Ans1.\n",
    "\n",
    "It is advantageous to have functions in your programs because of the following reasons: \n",
    "1. The reduce the need for having duplicate code. This also increases code reusability as you can call the same function multiple times whenever you need it. \n",
    "\n",
    "2. Increases code readability\n",
    "\n",
    "3. Reduces chances of error\n",
    "\n",
    "4. Modifying a program becomes easier by using a function."
   ]
  },
  {
   "cell_type": "code",
   "execution_count": null,
   "id": "9a3d4b5b",
   "metadata": {},
   "outputs": [],
   "source": []
  },
  {
   "cell_type": "markdown",
   "id": "7dcb9592",
   "metadata": {},
   "source": [
    "### 2. When does the code in a function run: when it is specified or when it is called?\n",
    "\n",
    "### Ans2. \n",
    "\n",
    "The code in a function is run when it is called not when it is specified. When a function is called the program leaves the current section of code and begins to execute the first line of the function."
   ]
  },
  {
   "cell_type": "code",
   "execution_count": 5,
   "id": "0ab1f2af",
   "metadata": {},
   "outputs": [
    {
     "name": "stdout",
     "output_type": "stream",
     "text": [
      "Calling rd1 will print this line and Mihir\n"
     ]
    }
   ],
   "source": [
    "#Example\n",
    "\n",
    "def rd1(name1):\n",
    "    print(\"Calling rd1 will print this line and \"+ name1)\n",
    "    \n",
    "rd1(\"Mihir\")"
   ]
  },
  {
   "cell_type": "markdown",
   "id": "db13a1ec",
   "metadata": {},
   "source": [
    "### 3. What statement creates a function?\n",
    "\n",
    "### Ans3. \n",
    "\n",
    "The def statement creates a function. "
   ]
  },
  {
   "cell_type": "code",
   "execution_count": 17,
   "id": "452b82a8",
   "metadata": {},
   "outputs": [],
   "source": [
    "# Syntax of a function which returns square of number you enter\n",
    "\n",
    "def square_of_number(num1):\n",
    "    try:\n",
    "        result = num1 ** 2\n",
    "        return result\n",
    "    except TypeError:\n",
    "        return \"Invalid input. Please enter a valid integer.\""
   ]
  },
  {
   "cell_type": "code",
   "execution_count": 18,
   "id": "aedc944d",
   "metadata": {},
   "outputs": [
    {
     "data": {
      "text/plain": [
       "1936"
      ]
     },
     "execution_count": 18,
     "metadata": {},
     "output_type": "execute_result"
    }
   ],
   "source": [
    "square_of_number(44)"
   ]
  },
  {
   "cell_type": "markdown",
   "id": "aea1b536",
   "metadata": {},
   "source": [
    "### 4. What is the difference between a function and a function call?\n",
    "\n",
    "### Ans4.\n",
    "\n",
    "A function is a block of code does a particular operation and then returns the result. It usually accepts inputs as parameters and returns a result. The parameters are not mandatory. \n",
    "\n",
    "Function call is the code used to pass control to the function."
   ]
  },
  {
   "cell_type": "code",
   "execution_count": 19,
   "id": "c783a237",
   "metadata": {},
   "outputs": [
    {
     "data": {
      "text/plain": [
       "9"
      ]
     },
     "execution_count": 19,
     "metadata": {},
     "output_type": "execute_result"
    }
   ],
   "source": [
    "# Function\n",
    "def cuube(num2):\n",
    "    return num2**2\n",
    "\n",
    "# Function Call\n",
    "cuube(3)"
   ]
  },
  {
   "cell_type": "markdown",
   "id": "3b44fd47",
   "metadata": {},
   "source": [
    "### 5. How many global scopes are there in a Python program? How many local scopes?\n",
    "\n",
    "### Ans5\n",
    "\n",
    "There is one global scope and a local scope is created when a function is called. A variable created inside a function belongs to the local scope of that function and can't be used outside the function. Whereas a variable created in the main body of the Python is a global variable and belongs to the global scope."
   ]
  },
  {
   "cell_type": "code",
   "execution_count": null,
   "id": "85c9d46b",
   "metadata": {},
   "outputs": [],
   "source": []
  },
  {
   "cell_type": "markdown",
   "id": "f108e48d",
   "metadata": {},
   "source": [
    "### 6. What happens to variables in a local scope when the function call returns?\n",
    "\n",
    "### Ans6\n",
    "\n",
    "When a function returns the local scope is destroyed, and all the variables in it are forgotten. A local variable becomes undefined after the function call completes."
   ]
  },
  {
   "cell_type": "code",
   "execution_count": null,
   "id": "2169f75c",
   "metadata": {},
   "outputs": [],
   "source": []
  },
  {
   "cell_type": "markdown",
   "id": "90913e71",
   "metadata": {},
   "source": [
    "### 7. What is the concept of a return value? Is it possible to have a return value in an expression?\n",
    "\n",
    "### Ans7\n",
    "\n",
    "The Python return statement is a key component of functions and methods. We can use the return statement to make functions send Python objects back to the caller code. These objects are known as the function's return value. A return value is a value that a function call evaluates to. Like any value, a return value can be used as part of an expression.\n"
   ]
  },
  {
   "cell_type": "code",
   "execution_count": null,
   "id": "c6542a5e",
   "metadata": {},
   "outputs": [],
   "source": []
  },
  {
   "cell_type": "markdown",
   "id": "ce809167",
   "metadata": {},
   "source": [
    "### 8. If a function does not have a return statement, what is the return value of a call to that function?\n",
    "\n",
    "### Ans8\n",
    "\n",
    "If there is no return statement for a function, the return value is None. The function always returns None if explicit return is not written"
   ]
  },
  {
   "cell_type": "code",
   "execution_count": null,
   "id": "a3266145",
   "metadata": {},
   "outputs": [],
   "source": []
  },
  {
   "cell_type": "markdown",
   "id": "bdfb7a37",
   "metadata": {},
   "source": [
    "### 9. How do you make a function variable refer to the global variable?\n",
    "\n",
    "### Ans9\n",
    "\n",
    "A global statement will force a variable in function to refer to the global variable. If you want to refer to a global variable in a function, you can use the global keyword to declare which variables are global.\n"
   ]
  },
  {
   "cell_type": "code",
   "execution_count": null,
   "id": "a9117d78",
   "metadata": {},
   "outputs": [],
   "source": []
  },
  {
   "cell_type": "markdown",
   "id": "9e6359db",
   "metadata": {},
   "source": [
    "### 10. What is the data type of None?\n",
    "\n",
    "### Ans10. \n",
    "\n",
    "The data type of None is Nonetype"
   ]
  },
  {
   "cell_type": "code",
   "execution_count": null,
   "id": "22ada606",
   "metadata": {},
   "outputs": [],
   "source": []
  },
  {
   "cell_type": "markdown",
   "id": "c89c3596",
   "metadata": {},
   "source": [
    "### 11. What does the sentence import areallyourpetsnamederic do?\n",
    "\n",
    "### Ans11.\n",
    "\n",
    "The import statement imports a module named areallyourpetsnamaderic"
   ]
  },
  {
   "cell_type": "code",
   "execution_count": null,
   "id": "bbd101ec",
   "metadata": {},
   "outputs": [],
   "source": []
  },
  {
   "cell_type": "markdown",
   "id": "79dbcd3f",
   "metadata": {},
   "source": [
    "### 12. If you had a bacon() feature in a spam module, what would you call it after importing spam?\n",
    "\n",
    "### Ans12.\n",
    "\n",
    "The function can be called spam.bacon()"
   ]
  },
  {
   "cell_type": "code",
   "execution_count": null,
   "id": "0818998c",
   "metadata": {},
   "outputs": [],
   "source": []
  },
  {
   "cell_type": "markdown",
   "id": "ee5643d5",
   "metadata": {},
   "source": [
    "### 13. What can you do to save a programme from crashing if it encounters an error?\n",
    "\n",
    "### Ans\n",
    "\n",
    "We can place the code which may cause an error in try clause and use except clause to handle the error as shown below"
   ]
  },
  {
   "cell_type": "code",
   "execution_count": 2,
   "id": "d58a3aca",
   "metadata": {},
   "outputs": [
    {
     "name": "stdout",
     "output_type": "stream",
     "text": [
      "1\n"
     ]
    }
   ],
   "source": [
    "x=1\n",
    "\n",
    "try:\n",
    "    print(x)\n",
    "except:\n",
    "    print(\"An error occurred\")"
   ]
  },
  {
   "cell_type": "markdown",
   "id": "288357b4",
   "metadata": {},
   "source": [
    "### 14. What is the purpose of the try clause? What is the purpose of the except clause?\n",
    "\n",
    "### Ans14\n",
    "\n",
    "The 'try' and 'except' clauses are part of a structured error-handling mechanism in Python. They are used to handle excpetions or errors that might occur during the execution of a block of code."
   ]
  },
  {
   "cell_type": "code",
   "execution_count": 3,
   "id": "7ee10b10",
   "metadata": {},
   "outputs": [
    {
     "name": "stdout",
     "output_type": "stream",
     "text": [
      "800\n"
     ]
    }
   ],
   "source": [
    "y = 800\n",
    "\n",
    "try:\n",
    "    print(y)\n",
    "except NameError:\n",
    "    print(\"Variable x is not defined\")\n"
   ]
  }
 ],
 "metadata": {
  "kernelspec": {
   "display_name": "Python 3 (ipykernel)",
   "language": "python",
   "name": "python3"
  },
  "language_info": {
   "codemirror_mode": {
    "name": "ipython",
    "version": 3
   },
   "file_extension": ".py",
   "mimetype": "text/x-python",
   "name": "python",
   "nbconvert_exporter": "python",
   "pygments_lexer": "ipython3",
   "version": "3.10.13"
  }
 },
 "nbformat": 4,
 "nbformat_minor": 5
}
