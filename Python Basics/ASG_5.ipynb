{
 "cells": [
  {
   "cell_type": "markdown",
   "id": "085e5333",
   "metadata": {},
   "source": [
    "### 1. What does an empty dictionary&#39;s code look like?\n",
    "\n",
    "### Ans\n",
    "\n",
    "A dictionary is similar to a list, but instead on an index you can look up values using keys. "
   ]
  },
  {
   "cell_type": "code",
   "execution_count": null,
   "id": "6fdaa6ae",
   "metadata": {},
   "outputs": [],
   "source": [
    "empty_dict = {}"
   ]
  },
  {
   "cell_type": "markdown",
   "id": "6800c70b",
   "metadata": {},
   "source": [
    "### 2. What is the value of a dictionary value with the key &#39;foo&#39; and the value 42?\n",
    "\n",
    "### Ans \n",
    "\n",
    "The value of a dictionary with key 'foo' and value 42 is simply 42"
   ]
  },
  {
   "cell_type": "code",
   "execution_count": 8,
   "id": "b9fe5de0",
   "metadata": {},
   "outputs": [
    {
     "data": {
      "text/plain": [
       "42"
      ]
     },
     "execution_count": 8,
     "metadata": {},
     "output_type": "execute_result"
    }
   ],
   "source": [
    "dict2= {'foo':42}\n",
    "dict2['foo']"
   ]
  },
  {
   "cell_type": "markdown",
   "id": "f1697a4c",
   "metadata": {},
   "source": [
    "### 3. What is the most significant distinction between a dictionary and a list?\n",
    "\n",
    "### Ans\n",
    "\n",
    "The most significant distinction between a dictionary and a list is the way you access values in them. In a list you access values by using the index value while in the dictionary you access values by using the key. Lists are ordered while dictionaries are unordered. Lists can have duplicated values but dictionaries can't have duplicate keys"
   ]
  },
  {
   "cell_type": "code",
   "execution_count": 15,
   "id": "c2b62c8f",
   "metadata": {},
   "outputs": [
    {
     "name": "stdout",
     "output_type": "stream",
     "text": [
      "mdh230000\n",
      "mdh230000\n"
     ]
    }
   ],
   "source": [
    "dict3 = {'k1':123, 'k2':'mdh230000', 'k3':'UTD','k4': 9989}\n",
    "list3 = [123, 'mdh230000', 'UTD', 9989]\n",
    "\n",
    "print(list3[1])\n",
    "print(dict3['k2'])"
   ]
  },
  {
   "cell_type": "markdown",
   "id": "9c7a0e90",
   "metadata": {},
   "source": [
    "### 4. What happens if you try to access spam[&#39;foo&#39;] if spam is {&#39;bar&#39;: 100}?\n",
    "\n",
    "### Ans\n",
    "\n",
    "If you try to access spam['foo'] when there is no such key in spam, then you will get a Key Error"
   ]
  },
  {
   "cell_type": "code",
   "execution_count": 16,
   "id": "7d3ce5b0",
   "metadata": {},
   "outputs": [
    {
     "ename": "KeyError",
     "evalue": "'foo'",
     "output_type": "error",
     "traceback": [
      "\u001b[1;31m---------------------------------------------------------------------------\u001b[0m",
      "\u001b[1;31mKeyError\u001b[0m                                  Traceback (most recent call last)",
      "Cell \u001b[1;32mIn[16], line 2\u001b[0m\n\u001b[0;32m      1\u001b[0m spam \u001b[38;5;241m=\u001b[39m {\u001b[38;5;124m'\u001b[39m\u001b[38;5;124mbar\u001b[39m\u001b[38;5;124m'\u001b[39m:\u001b[38;5;241m100\u001b[39m}\n\u001b[1;32m----> 2\u001b[0m \u001b[43mspam\u001b[49m\u001b[43m[\u001b[49m\u001b[38;5;124;43m'\u001b[39;49m\u001b[38;5;124;43mfoo\u001b[39;49m\u001b[38;5;124;43m'\u001b[39;49m\u001b[43m]\u001b[49m\n",
      "\u001b[1;31mKeyError\u001b[0m: 'foo'"
     ]
    }
   ],
   "source": [
    "spam = {'bar':100}\n",
    "spam['foo']"
   ]
  },
  {
   "cell_type": "markdown",
   "id": "b46ad00a",
   "metadata": {},
   "source": [
    "### 5. If a dictionary is stored in spam, what is the difference between the expressions &#39;cat&#39; in spam and\n",
    "&#39;cat&#39; in spam.keys()?"
   ]
  },
  {
   "cell_type": "code",
   "execution_count": 23,
   "id": "0fcdc8af",
   "metadata": {},
   "outputs": [
    {
     "name": "stdout",
     "output_type": "stream",
     "text": [
      "true\n"
     ]
    }
   ],
   "source": [
    "if 'k1' in dict3.keys():\n",
    "    print(\"true\")\n",
    "else:\n",
    "    print(\"false\")"
   ]
  },
  {
   "cell_type": "markdown",
   "id": "9881bae7",
   "metadata": {},
   "source": [
    "### 6. If a dictionary is stored in spam, what is the difference between the expressions &#39;cat&#39; in spam and &#39;cat&#39; in spam.values()?\n",
    "\n",
    "### Ans\n",
    "\n"
   ]
  },
  {
   "cell_type": "markdown",
   "id": "dec84067",
   "metadata": {},
   "source": [
    "'cat' in spam searches if any keys in spam are called 'cat'\n",
    "\n",
    "'cat' in spam.values() searches if any values in spam are called 'cat'"
   ]
  },
  {
   "cell_type": "markdown",
   "id": "5982e876",
   "metadata": {},
   "source": [
    "### 7. What is a shortcut for the following code? if &#39;color&#39; not in spam: spam[&#39;color&#39;] = &#39;black&#39;\n",
    "\n",
    "### Ans \n",
    "\n",
    "The shortcut to that is the setdefault() method in python which sets the dictionary key to the specified value if the key doesn't exist in the dictionary. If the key is already present setdefault() does nothing."
   ]
  },
  {
   "cell_type": "code",
   "execution_count": 25,
   "id": "af5dbc2a",
   "metadata": {},
   "outputs": [
    {
     "name": "stdout",
     "output_type": "stream",
     "text": [
      "{'k1': 'kaguya', 'k2': 'earth', 'k3': 'water', 'k4': 'thunder', 'color': 'black'}\n"
     ]
    }
   ],
   "source": [
    "spam = {'k1':'fire','k2':'earth','k3':'water','k4':'thunder','k1':'plasma','k1':'kaguya'}\n",
    "if 'color' not in spam: \n",
    "    spam['color'] = 'black'\n",
    "\n",
    "print(spam)"
   ]
  },
  {
   "cell_type": "code",
   "execution_count": 26,
   "id": "e7d17293",
   "metadata": {},
   "outputs": [
    {
     "name": "stdout",
     "output_type": "stream",
     "text": [
      "{'k1': 'kaguya', 'k2': 'earth', 'k3': 'water', 'k4': 'thunder', 'color': 'black'}\n"
     ]
    }
   ],
   "source": [
    "spam = {'k1':'fire','k2':'earth','k3':'water','k4':'thunder','k1':'plasma','k1':'kaguya'}\n",
    "spam.setdefault('color', 'black')\n",
    "\n",
    "print(spam)"
   ]
  },
  {
   "cell_type": "markdown",
   "id": "6645c7a5",
   "metadata": {},
   "source": [
    "### 8. How do you &quot;pretty print&quot; dictionary values using which module and function?\n",
    "\n"
   ]
  },
  {
   "cell_type": "markdown",
   "id": "841ce7e9",
   "metadata": {},
   "source": [
    "### ANS\n",
    "\n",
    "We use the pprint module and the pprint function to \"pretty print\" dictionary values. "
   ]
  },
  {
   "cell_type": "code",
   "execution_count": 32,
   "id": "fc1f9b57",
   "metadata": {},
   "outputs": [
    {
     "name": "stdout",
     "output_type": "stream",
     "text": [
      "{'k1': 'very long string value that goes on and on and on without stopping', 'k2': [1, 2, 3, 4, 5, 6, 7, 8, 9, 10], 'k3': {'subkey1': 'subvalue1', 'subkey2': 'subvalue2', 'subkey3': 'subvalue3'}}\n"
     ]
    }
   ],
   "source": [
    "from pprint import pprint\n",
    "complex_dict = {\n",
    "    'k1': 'very long string value that goes on and on and on without stopping',\n",
    "    'k2': [1, 2, 3, 4, 5, 6, 7, 8, 9, 10],\n",
    "    'k3': {'subkey1': 'subvalue1', 'subkey2': 'subvalue2', 'subkey3': 'subvalue3'}\n",
    "}\n",
    "\n",
    "print(complex_dict)\n"
   ]
  },
  {
   "cell_type": "code",
   "execution_count": 31,
   "id": "c289d445",
   "metadata": {},
   "outputs": [
    {
     "name": "stdout",
     "output_type": "stream",
     "text": [
      "{'k1': 'very long string value that goes on and on and on without stopping',\n",
      " 'k2': [1, 2, 3, 4, 5, 6, 7, 8, 9, 10],\n",
      " 'k3': {'subkey1': 'subvalue1', 'subkey2': 'subvalue2', 'subkey3': 'subvalue3'}}\n"
     ]
    }
   ],
   "source": [
    "pprint(complex_dict)"
   ]
  }
 ],
 "metadata": {
  "kernelspec": {
   "display_name": "Python 3 (ipykernel)",
   "language": "python",
   "name": "python3"
  },
  "language_info": {
   "codemirror_mode": {
    "name": "ipython",
    "version": 3
   },
   "file_extension": ".py",
   "mimetype": "text/x-python",
   "name": "python",
   "nbconvert_exporter": "python",
   "pygments_lexer": "ipython3",
   "version": "3.11.3"
  }
 },
 "nbformat": 4,
 "nbformat_minor": 5
}
