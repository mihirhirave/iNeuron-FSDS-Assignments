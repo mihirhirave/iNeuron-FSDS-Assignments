{
 "cells": [
  {
   "cell_type": "markdown",
   "id": "4f1378c3",
   "metadata": {},
   "source": [
    "### 1. What are escape characters, and how do you use them?\n",
    "\n",
    "### Ans\n",
    "\n",
    "Escape characters in Python are characters followed by a backslash \"\\\""
   ]
  },
  {
   "cell_type": "code",
   "execution_count": 1,
   "id": "6dc9b67f",
   "metadata": {},
   "outputs": [
    {
     "name": "stdout",
     "output_type": "stream",
     "text": [
      "Hello\tWorld\n"
     ]
    }
   ],
   "source": [
    "print(\"Hello\\tWorld\") #Tab"
   ]
  },
  {
   "cell_type": "code",
   "execution_count": 2,
   "id": "7881716e",
   "metadata": {},
   "outputs": [
    {
     "name": "stdout",
     "output_type": "stream",
     "text": [
      "Hello\n",
      "World\n"
     ]
    }
   ],
   "source": [
    "print(\"Hello\\nWorld\") #Newline"
   ]
  },
  {
   "cell_type": "code",
   "execution_count": 3,
   "id": "6f3b827c",
   "metadata": {},
   "outputs": [
    {
     "name": "stdout",
     "output_type": "stream",
     "text": [
      "World\n"
     ]
    }
   ],
   "source": [
    "print(\"Hello\\rWorld\") #Carriage Return"
   ]
  },
  {
   "cell_type": "markdown",
   "id": "4a60c9fb",
   "metadata": {},
   "source": [
    "### 2. What do the escape characters n and t stand for?\n",
    "\n",
    "### Ans\n",
    "\n",
    "The escape character \\n takes the cursor to the next line.\n",
    "\n",
    "The escape character \\t adds a Tab to the string."
   ]
  },
  {
   "cell_type": "code",
   "execution_count": 5,
   "id": "f73e2e83",
   "metadata": {},
   "outputs": [
    {
     "name": "stdout",
     "output_type": "stream",
     "text": [
      "Everything\n",
      "will\n",
      "be\n",
      "on\n",
      "a\n",
      "new\n",
      "line\n"
     ]
    }
   ],
   "source": [
    "print(\"Everything\\nwill\\nbe\\non\\na\\nnew\\nline\")"
   ]
  },
  {
   "cell_type": "code",
   "execution_count": 6,
   "id": "cb0519eb",
   "metadata": {},
   "outputs": [
    {
     "name": "stdout",
     "output_type": "stream",
     "text": [
      "Everything\twill\tbe\tspaced\tby\ta\ttab\n"
     ]
    }
   ],
   "source": [
    "print(\"Everything\\twill\\tbe\\tspaced\\tby\\ta\\ttab\")"
   ]
  },
  {
   "cell_type": "markdown",
   "id": "8791384d",
   "metadata": {},
   "source": [
    "### 3. What is the way to include backslash characters in a string?\n",
    "\n",
    "### Ans \n",
    "\n",
    "To include backslash in a string include two backslases \"\\\\\""
   ]
  },
  {
   "cell_type": "code",
   "execution_count": 12,
   "id": "1aa9ddf6",
   "metadata": {},
   "outputs": [
    {
     "name": "stdout",
     "output_type": "stream",
     "text": [
      "Here's a backslash: \\\n"
     ]
    }
   ],
   "source": [
    "print(\"Here's a backslash: \\\\\")"
   ]
  },
  {
   "cell_type": "markdown",
   "id": "f6cad4ec",
   "metadata": {},
   "source": [
    "### 4. The string &quot;Howl&#39;s Moving Castle&quot; is a correct value. Why isn&#39;t the single quote character in the word Howl&#39;s not escaped a problem?\n",
    "\n",
    "### Ans\n",
    "\n",
    "The single quote isn't a problem because it is enclosed in double quotes."
   ]
  },
  {
   "cell_type": "code",
   "execution_count": 13,
   "id": "df7b491f",
   "metadata": {},
   "outputs": [
    {
     "name": "stdout",
     "output_type": "stream",
     "text": [
      "Howl's Moving Castle\n"
     ]
    }
   ],
   "source": [
    "print(\"Howl's Moving Castle\")"
   ]
  },
  {
   "cell_type": "markdown",
   "id": "8530f3b6",
   "metadata": {},
   "source": [
    "### 5. How do you write a string of newlines if you don&#39;t want to use the n character?\n",
    "\n",
    "### Ans \n",
    "\n",
    "1. We can write a string of newlines without using the n character by printing multiple print statements.\n",
    "\n",
    "2.  Another way to write is to store the lines in an array and use a loop to iterate through that array."
   ]
  },
  {
   "cell_type": "code",
   "execution_count": 14,
   "id": "1d8cdb72",
   "metadata": {},
   "outputs": [
    {
     "name": "stdout",
     "output_type": "stream",
     "text": [
      "Hello\n",
      "World\n"
     ]
    }
   ],
   "source": [
    "print(\"Hello\")\n",
    "print(\"World\")"
   ]
  },
  {
   "cell_type": "code",
   "execution_count": 21,
   "id": "15b8d395",
   "metadata": {},
   "outputs": [
    {
     "name": "stdout",
     "output_type": "stream",
     "text": [
      "Hello\n",
      "World\n",
      "Wake\n",
      "up\n",
      "Tomorrow\n"
     ]
    }
   ],
   "source": [
    "a=[\"Hello\", \"World\",\"Wake\",\"up\",\"Tomorrow\"]\n",
    "for i in range(len(a)):\n",
    "    print(a[i])"
   ]
  },
  {
   "cell_type": "markdown",
   "id": "0dcbdc34",
   "metadata": {},
   "source": [
    "### 6. What are the values of the given expressions?\n",
    "&#39;Hello, world!&#39;[1]\n",
    "&#39;Hello, world!&#39;[0:5]\n",
    "&#39;Hello, world!&#39;[:5]\n",
    "&#39;Hello, world!&#39;[3:]\n"
   ]
  },
  {
   "cell_type": "code",
   "execution_count": 23,
   "id": "a5352d6a",
   "metadata": {},
   "outputs": [
    {
     "name": "stdout",
     "output_type": "stream",
     "text": [
      "e\n"
     ]
    }
   ],
   "source": [
    "print(\"Hello, world\"[1])"
   ]
  },
  {
   "cell_type": "code",
   "execution_count": 24,
   "id": "37327512",
   "metadata": {},
   "outputs": [
    {
     "name": "stdout",
     "output_type": "stream",
     "text": [
      "Hello\n"
     ]
    }
   ],
   "source": [
    "print(\"Hello, world!\"[0:5])"
   ]
  },
  {
   "cell_type": "code",
   "execution_count": 25,
   "id": "788f0ad6",
   "metadata": {},
   "outputs": [
    {
     "name": "stdout",
     "output_type": "stream",
     "text": [
      "Hello\n"
     ]
    }
   ],
   "source": [
    "print(\"Hello, world!\"[:5])"
   ]
  },
  {
   "cell_type": "code",
   "execution_count": 26,
   "id": "15f58181",
   "metadata": {},
   "outputs": [
    {
     "name": "stdout",
     "output_type": "stream",
     "text": [
      "lo, world!\n"
     ]
    }
   ],
   "source": [
    "print(\"Hello, world!\"[3:])"
   ]
  },
  {
   "cell_type": "markdown",
   "id": "37727cfd",
   "metadata": {},
   "source": [
    "### 7. What are the values of the following expressions?\n",
    "&#39;Hello&#39;.upper()\n",
    "&#39;Hello&#39;.upper().isupper()\n",
    "&#39;Hello&#39;.upper().lower()"
   ]
  },
  {
   "cell_type": "code",
   "execution_count": 27,
   "id": "dc283c1d",
   "metadata": {},
   "outputs": [
    {
     "name": "stdout",
     "output_type": "stream",
     "text": [
      "HELLO\n"
     ]
    }
   ],
   "source": [
    "print(\"Hello\".upper())"
   ]
  },
  {
   "cell_type": "code",
   "execution_count": 28,
   "id": "093bcfce",
   "metadata": {},
   "outputs": [
    {
     "name": "stdout",
     "output_type": "stream",
     "text": [
      "True\n"
     ]
    }
   ],
   "source": [
    "print(\"Hello\".upper().isupper())"
   ]
  },
  {
   "cell_type": "code",
   "execution_count": 29,
   "id": "6d29d3a8",
   "metadata": {},
   "outputs": [
    {
     "name": "stdout",
     "output_type": "stream",
     "text": [
      "hello\n"
     ]
    }
   ],
   "source": [
    "print(\"Hello\".upper().lower())"
   ]
  },
  {
   "cell_type": "code",
   "execution_count": 30,
   "id": "19dcf37a",
   "metadata": {},
   "outputs": [
    {
     "name": "stdout",
     "output_type": "stream",
     "text": [
      "hello\n"
     ]
    }
   ],
   "source": [
    "print(\"Hello\".lower())"
   ]
  },
  {
   "cell_type": "markdown",
   "id": "12fcc0b5",
   "metadata": {},
   "source": [
    "### 8. What are the values of the following expressions?\n",
    "&#39;Remember, remember, the fifth of July.&#39;.split()\n",
    "\n",
    "&#39;-&#39;.join(&#39;There can only one.&#39;.split())"
   ]
  },
  {
   "cell_type": "code",
   "execution_count": 49,
   "id": "a66a98d4",
   "metadata": {},
   "outputs": [
    {
     "name": "stdout",
     "output_type": "stream",
     "text": [
      "['Remember,', 'remember,', 'the', 'fifth', 'of', 'July.']\n"
     ]
    }
   ],
   "source": [
    "print(\"Remember, remember, the fifth of July.\".split())"
   ]
  },
  {
   "cell_type": "code",
   "execution_count": 50,
   "id": "8a95bae1",
   "metadata": {},
   "outputs": [
    {
     "name": "stdout",
     "output_type": "stream",
     "text": [
      "There-can-only-on.\n"
     ]
    }
   ],
   "source": [
    "print('-'.join('There can only on.'.split()))"
   ]
  },
  {
   "cell_type": "markdown",
   "id": "ff787930",
   "metadata": {},
   "source": [
    "### 9. What are the methods for right-justifying, left-justifying, and centering a string?\n",
    "\n",
    "### Ans\n",
    "\n",
    "The methosd for right-justifying, left-justifying and centering are as follows:\n",
    "\n",
    "1. rjust()\n",
    "2. ljust()\n",
    "3. center()\n",
    "\n",
    "                    "
   ]
  },
  {
   "cell_type": "code",
   "execution_count": 16,
   "id": "9f2c219b",
   "metadata": {},
   "outputs": [
    {
     "name": "stdout",
     "output_type": "stream",
     "text": [
      "                                             Mihir\n"
     ]
    }
   ],
   "source": [
    "s=\"Mihir\"\n",
    "print(s.rjust(50))\n",
    "\n",
    "# rjust() takes the argument we've sent i.e. 50 and subtracts the length of \"Mihir\" from it. 50-5 = 45\n",
    "# Then it adds 45 whitespaces to the left of Mihir and generates a new string"
   ]
  },
  {
   "cell_type": "code",
   "execution_count": 17,
   "id": "7e12a8de",
   "metadata": {},
   "outputs": [
    {
     "name": "stdout",
     "output_type": "stream",
     "text": [
      "Mihir                                             \n"
     ]
    }
   ],
   "source": [
    "s=\"Mihir\"\n",
    "print(s.ljust(50))\n",
    "\n",
    "# ljust() takes the argument we've sent i.e. 50 and subtracts the length of \"Mihir\" from it. 50-5 = 45\n",
    "# Then it adds 45 whitespaces to the right of Mihir and generates a new string"
   ]
  },
  {
   "cell_type": "code",
   "execution_count": 18,
   "id": "262b3c6c",
   "metadata": {},
   "outputs": [
    {
     "name": "stdout",
     "output_type": "stream",
     "text": [
      "                      Mihir                       \n"
     ]
    }
   ],
   "source": [
    "s=\"Mihir\"\n",
    "print(s.center(50)) \n",
    "\n",
    "# In a similar manner center calculates the padding required and evenly distributes it to the right & left of Mihir."
   ]
  },
  {
   "cell_type": "markdown",
   "id": "1e0f4f5e",
   "metadata": {},
   "source": [
    "### 10. What is the best way to remove whitespace characters from the start or end?\n",
    "\n",
    "### Ans \n",
    "\n",
    "The best way to remove whitespaces from the start i.e. left of the string is lstrip()\n",
    "\n",
    "And to remove them from the end we can use rstrip()"
   ]
  },
  {
   "cell_type": "code",
   "execution_count": 32,
   "id": "3e431c0e",
   "metadata": {},
   "outputs": [
    {
     "name": "stdout",
     "output_type": "stream",
     "text": [
      "Elon Musk\n"
     ]
    }
   ],
   "source": [
    "s = \"          Elon Musk\"\n",
    "print(s.lstrip())"
   ]
  },
  {
   "cell_type": "markdown",
   "id": "7ef89603",
   "metadata": {},
   "source": [
    "### "
   ]
  },
  {
   "cell_type": "code",
   "execution_count": 33,
   "id": "159d298f",
   "metadata": {},
   "outputs": [
    {
     "name": "stdout",
     "output_type": "stream",
     "text": [
      "Elon Musk\n"
     ]
    }
   ],
   "source": [
    "s = \"Elon Musk            \"\n",
    "print(s.rstrip())"
   ]
  },
  {
   "cell_type": "code",
   "execution_count": 34,
   "id": "c783f126",
   "metadata": {},
   "outputs": [
    {
     "name": "stdout",
     "output_type": "stream",
     "text": [
      "Help on method_descriptor:\n",
      "\n",
      "strip(self, chars=None, /)\n",
      "    Return a copy of the string with leading and trailing whitespace removed.\n",
      "    \n",
      "    If chars is given and not None, remove characters in chars instead.\n",
      "\n"
     ]
    }
   ],
   "source": [
    "help(str.strip)"
   ]
  }
 ],
 "metadata": {
  "kernelspec": {
   "display_name": "Python 3 (ipykernel)",
   "language": "python",
   "name": "python3"
  },
  "language_info": {
   "codemirror_mode": {
    "name": "ipython",
    "version": 3
   },
   "file_extension": ".py",
   "mimetype": "text/x-python",
   "name": "python",
   "nbconvert_exporter": "python",
   "pygments_lexer": "ipython3",
   "version": "3.11.3"
  }
 },
 "nbformat": 4,
 "nbformat_minor": 5
}
