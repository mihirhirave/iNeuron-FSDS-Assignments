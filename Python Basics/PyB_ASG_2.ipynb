{
 "cells": [
  {
   "cell_type": "markdown",
   "id": "a779fbac",
   "metadata": {},
   "source": [
    "### 1.What are the two values of the Boolean data type? How do you write them?\n",
    "\n",
    "Ans1: The Boolean data type has two possible values. True and False. They are used in logical and conditional statements. \n"
   ]
  },
  {
   "cell_type": "code",
   "execution_count": 3,
   "id": "64a7e827",
   "metadata": {},
   "outputs": [
    {
     "name": "stdout",
     "output_type": "stream",
     "text": [
      "10\n"
     ]
    }
   ],
   "source": [
    "x= 10\n",
    "if x > 5:\n",
    "    print(x)"
   ]
  },
  {
   "cell_type": "markdown",
   "id": "000949d5",
   "metadata": {},
   "source": [
    "In the above code we check the value of x and if it is above 5; then we print(x). The \"if\" statement will return \"True\" if the condition is satisfied, and print(x) will be executed. If not it will return \"False\" and not execute print(x)."
   ]
  },
  {
   "cell_type": "code",
   "execution_count": null,
   "id": "cdfb18d8",
   "metadata": {},
   "outputs": [],
   "source": []
  },
  {
   "cell_type": "markdown",
   "id": "7aacfacd",
   "metadata": {},
   "source": [
    "### 2. What are the three different types of Boolean operators?\n",
    "\n",
    "Ans2: \n",
    "* The 3 different types of Boolean operators are: AND, OR, NOT"
   ]
  },
  {
   "cell_type": "code",
   "execution_count": null,
   "id": "676c7ea7",
   "metadata": {},
   "outputs": [],
   "source": []
  },
  {
   "cell_type": "markdown",
   "id": "e9cdc15d",
   "metadata": {},
   "source": [
    "### 3. Make a list of each Boolean operator&#39;s truth tables (i.e. every possible combination of Boolean values for the operator and what it evaluate ).\n",
    "\n",
    "Ans3: \n",
    "\n",
    "* AND operator\n",
    "\n",
    "True AND True = True\n",
    "\n",
    "True AND False = False\n",
    "\n",
    "False AND True = False\n",
    "\n",
    "False AND False = False\n",
    "\n",
    "* OR operator\n",
    "\n",
    "\n",
    "True OR True = True\n",
    "\n",
    "True OR False = True\n",
    "\n",
    "False OR True = True\n",
    "\n",
    "False OR False = False\n",
    "\n",
    "\n",
    "* NOT operator\n",
    "\n",
    "NOT True = False\n",
    "\n",
    "NOT False = True\n"
   ]
  },
  {
   "cell_type": "code",
   "execution_count": null,
   "id": "c21f0cc7",
   "metadata": {},
   "outputs": [],
   "source": []
  },
  {
   "cell_type": "markdown",
   "id": "87337c59",
   "metadata": {},
   "source": [
    "### 4. What are the values of the following expressions?\n",
    "\n",
    "(5 &gt; 4) and (3 == 5)\n",
    "\n",
    "not (5 &gt; 4)\n",
    "\n",
    "(5 &gt; 4) or (3 == 5)\n",
    "\n",
    "not ((5 &gt; 4) or (3 == 5))\n",
    "\n",
    "(True and True) and (True == False)\n",
    "\n",
    "(not False) or (not True)\n"
   ]
  },
  {
   "cell_type": "markdown",
   "id": "18066292",
   "metadata": {},
   "source": [
    "Ans4: \n",
    "\n",
    "* (5 > 4) and (3 == 5) - False\n",
    "* not (5 > 4) - False\n",
    "* (5 > 4) or (3 == 5) - True\n",
    "* not ((5 > 4) or (3 == 5)) - False\n",
    "* (True and True) and (True == False) - False\n",
    "* (not False) or (not True) - True\n"
   ]
  },
  {
   "cell_type": "code",
   "execution_count": null,
   "id": "18f03220",
   "metadata": {},
   "outputs": [],
   "source": []
  },
  {
   "cell_type": "markdown",
   "id": "c8900340",
   "metadata": {},
   "source": [
    "### 5. What are the six comparison operators?\n",
    "\n",
    "Ans5: \n",
    "\n",
    "The six comparison operators are: \n",
    "\n",
    "1. Less than Operator: <\n",
    "2. Greater than Operator: >\n",
    "3. Less than or equal to Operator: <=\n",
    "4. Greater than or equal to Operator: >=\n",
    "5. Equal to Operator: ==\n",
    "6. Not Equal to Operator: !="
   ]
  },
  {
   "cell_type": "markdown",
   "id": "5e1f35ca",
   "metadata": {},
   "source": [
    "### 6. How do you tell the difference between the equal to and assignment operators?Describe a condition and when you would use one.\n",
    "\n",
    "Ans6. \n",
    "\n",
    "The equal to operator has 2 equal to signs \"==\" whereas  the assignment operator has only 1 equal to sign \"=\"\n",
    "\n",
    "x == 5 (It is checked if x is equal to 5)\n",
    "\n",
    "x = 5 (X is assigne the value 5)"
   ]
  },
  {
   "cell_type": "code",
   "execution_count": 10,
   "id": "f9dcef9b",
   "metadata": {},
   "outputs": [
    {
     "name": "stdout",
     "output_type": "stream",
     "text": [
      "x is equal to 5\n"
     ]
    }
   ],
   "source": [
    "# x is assigned value 5\n",
    "x = 5 \n",
    "# condition to check if x is equal to 5\n",
    "if x == 5:\n",
    "    print('x is equal to 5')"
   ]
  },
  {
   "cell_type": "code",
   "execution_count": 11,
   "id": "cc414fe4",
   "metadata": {},
   "outputs": [
    {
     "name": "stdout",
     "output_type": "stream",
     "text": [
      "x is not equal to 5\n"
     ]
    }
   ],
   "source": [
    "# x is assigned value 6\n",
    "x = 6 \n",
    "# condition to check if x is equal to 5\n",
    "if x == 5:\n",
    "    print('x is equal to 5')\n",
    "else: \n",
    "    print ('x is not equal to 5')"
   ]
  },
  {
   "cell_type": "code",
   "execution_count": null,
   "id": "bd7c154c",
   "metadata": {},
   "outputs": [],
   "source": []
  },
  {
   "cell_type": "markdown",
   "id": "47ced356",
   "metadata": {},
   "source": [
    "### 7. Identify the three blocks in this code:\n",
    "spam = 0\n",
    "\n",
    "if spam == 10:\n",
    "\n",
    "print(&#39;eggs&#39;)\n",
    "\n",
    "if spam &gt; 5:\n",
    "\n",
    "print(&#39;bacon&#39;)\n",
    "\n",
    "else:\n",
    "\n",
    "print(&#39;ham&#39;)\n",
    "\n",
    "print(&#39;spam&#39;)\n",
    "\n",
    "print(&#39;spam&#39;)\n"
   ]
  },
  {
   "cell_type": "code",
   "execution_count": 13,
   "id": "0413b42d",
   "metadata": {},
   "outputs": [
    {
     "name": "stdout",
     "output_type": "stream",
     "text": [
      "ham\n",
      "spam\n",
      "spam\n"
     ]
    }
   ],
   "source": [
    "spam = 0\n",
    "\n",
    "#Block 1\n",
    "if spam == 10:\n",
    "  \n",
    " print('eggs')\n",
    "\n",
    "#Block 2    \n",
    "if spam > 5:\n",
    "    \n",
    " print('bacon')\n",
    "\n",
    "\n",
    "#Block 3\n",
    "else:\n",
    " \n",
    " print('ham')\n",
    "\n",
    " print('spam')\n",
    "\n",
    " print('spam')"
   ]
  },
  {
   "cell_type": "code",
   "execution_count": null,
   "id": "19ed5259",
   "metadata": {},
   "outputs": [],
   "source": []
  },
  {
   "cell_type": "markdown",
   "id": "cb23e9d1",
   "metadata": {},
   "source": [
    "### 8. Write code that prints Hello if 1 is stored in spam, prints Howdy if 2 is stored in spam, and prints Greetings! if anything else is stored in spam.\n"
   ]
  },
  {
   "cell_type": "code",
   "execution_count": 25,
   "id": "38ab0acf",
   "metadata": {},
   "outputs": [],
   "source": [
    "\n",
    "def fun(spam: int):\n",
    "    \n",
    "    if spam == 1: \n",
    "        print(\"Hello\")\n",
    "    elif spam == 2:\n",
    "        print(\"Howdy\")\n",
    "    else: \n",
    "        print(\"Greetings\")\n",
    "    return(None)\n"
   ]
  },
  {
   "cell_type": "code",
   "execution_count": 26,
   "id": "c2c155df",
   "metadata": {
    "scrolled": false
   },
   "outputs": [
    {
     "name": "stdout",
     "output_type": "stream",
     "text": [
      "Hello\n"
     ]
    }
   ],
   "source": [
    "fun(1)"
   ]
  },
  {
   "cell_type": "code",
   "execution_count": 28,
   "id": "d598a0bd",
   "metadata": {},
   "outputs": [
    {
     "name": "stdout",
     "output_type": "stream",
     "text": [
      "Howdy\n"
     ]
    }
   ],
   "source": [
    "fun(2)"
   ]
  },
  {
   "cell_type": "code",
   "execution_count": 31,
   "id": "a63594b9",
   "metadata": {
    "scrolled": true
   },
   "outputs": [
    {
     "name": "stdout",
     "output_type": "stream",
     "text": [
      "Greetings\n"
     ]
    }
   ],
   "source": [
    "fun(10)"
   ]
  },
  {
   "cell_type": "code",
   "execution_count": null,
   "id": "0d9916ea",
   "metadata": {},
   "outputs": [],
   "source": []
  },
  {
   "cell_type": "markdown",
   "id": "46bd5fc8",
   "metadata": {},
   "source": [
    "### 9.If your programme is stuck in an endless loop, what keys you’ll press?\n",
    "\n",
    "Ans9: Press Ctrl-C to interrupt an endless loop"
   ]
  },
  {
   "cell_type": "code",
   "execution_count": null,
   "id": "521e2ac1",
   "metadata": {},
   "outputs": [],
   "source": []
  },
  {
   "cell_type": "markdown",
   "id": "55445f4c",
   "metadata": {},
   "source": [
    "### 10. How can you tell the difference between break and continue?\n",
    "\n",
    "Ans10: \n",
    "\n",
    "The break and continue statements are used in loops for different purposes. \n",
    "\n",
    "* break - This will exit the loop and execute the next line after the loop ends. \n",
    "\n",
    "* continue - This will go back to the loop and continue future iterations. \n"
   ]
  },
  {
   "cell_type": "code",
   "execution_count": 38,
   "id": "20d8117c",
   "metadata": {},
   "outputs": [
    {
     "name": "stdout",
     "output_type": "stream",
     "text": [
      "m\n",
      "i\n",
      "Done\n"
     ]
    }
   ],
   "source": [
    "#break example\n",
    "\n",
    "for val in \"mihirhirave\":\n",
    "    if val == \"h\":\n",
    "     break\n",
    "    print(val)\n",
    "print(\"Done\")"
   ]
  },
  {
   "cell_type": "code",
   "execution_count": 41,
   "id": "c7d74377",
   "metadata": {},
   "outputs": [
    {
     "name": "stdout",
     "output_type": "stream",
     "text": [
      "m\n",
      "i\n",
      "i\n",
      "r\n",
      "i\n",
      "r\n",
      "a\n",
      "v\n",
      "e\n",
      "Done\n"
     ]
    }
   ],
   "source": [
    "#continue example\n",
    "\n",
    "for val in \"mihirhirave\":\n",
    "    if val == \"h\":\n",
    "     continue\n",
    "    print(val)\n",
    "print(\"Done\")"
   ]
  },
  {
   "cell_type": "markdown",
   "id": "26ca49d7",
   "metadata": {},
   "source": [
    "### 11. In a for loop, what is the difference between range(10), range(0, 10), and range(0, 10, 1)?\n",
    "\n",
    "Ans11:\n",
    "\n",
    "They all mean the same thing. \n",
    "\n",
    "range(10) generates a list of values from 0 to 10; excluding the final value.\n",
    "\n",
    "range(0,10) generates a list of values from 0 to 10; excluding the final value.\n",
    "\n",
    "range(0, 10, 1) enerates a list of values from 0 to 10; at a step of 1, excluding the final value. "
   ]
  },
  {
   "cell_type": "code",
   "execution_count": 50,
   "id": "68f99be3",
   "metadata": {},
   "outputs": [
    {
     "data": {
      "text/plain": [
       "range(0, 10)"
      ]
     },
     "execution_count": 50,
     "metadata": {},
     "output_type": "execute_result"
    }
   ],
   "source": [
    "range(10)"
   ]
  },
  {
   "cell_type": "code",
   "execution_count": 51,
   "id": "075e922b",
   "metadata": {},
   "outputs": [
    {
     "data": {
      "text/plain": [
       "range(0, 10)"
      ]
     },
     "execution_count": 51,
     "metadata": {},
     "output_type": "execute_result"
    }
   ],
   "source": [
    "range(0, 10)"
   ]
  },
  {
   "cell_type": "code",
   "execution_count": 52,
   "id": "f992e4b7",
   "metadata": {},
   "outputs": [
    {
     "data": {
      "text/plain": [
       "range(0, 10)"
      ]
     },
     "execution_count": 52,
     "metadata": {},
     "output_type": "execute_result"
    }
   ],
   "source": [
    "range(0, 10, 1)\n"
   ]
  },
  {
   "cell_type": "markdown",
   "id": "5472c6dc",
   "metadata": {},
   "source": [
    "### 12. Write a short program that prints the numbers 1 to 10 using a for loop. Then write an equivalent program that prints the numbers 1 to 10 using a while loop."
   ]
  },
  {
   "cell_type": "code",
   "execution_count": 53,
   "id": "c12c4a41",
   "metadata": {
    "scrolled": true
   },
   "outputs": [
    {
     "name": "stdout",
     "output_type": "stream",
     "text": [
      "1\n",
      "2\n",
      "3\n",
      "4\n",
      "5\n",
      "6\n",
      "7\n",
      "8\n",
      "9\n",
      "10\n"
     ]
    }
   ],
   "source": [
    "#for loop\n",
    "\n",
    "for i in range(1, 11, 1):\n",
    "    print(i)"
   ]
  },
  {
   "cell_type": "code",
   "execution_count": 58,
   "id": "f5fa9125",
   "metadata": {},
   "outputs": [
    {
     "name": "stdout",
     "output_type": "stream",
     "text": [
      "1\n",
      "2\n",
      "3\n",
      "4\n",
      "5\n",
      "6\n",
      "7\n",
      "8\n",
      "9\n",
      "10\n"
     ]
    }
   ],
   "source": [
    "#while loop\n",
    "\n",
    "i = 1\n",
    "while i < 11:\n",
    "    print(i)\n",
    "    i += 1"
   ]
  },
  {
   "cell_type": "code",
   "execution_count": null,
   "id": "f2462dc7",
   "metadata": {},
   "outputs": [],
   "source": []
  },
  {
   "cell_type": "markdown",
   "id": "0725751b",
   "metadata": {},
   "source": [
    "### 13. If you had a function named bacon() inside a module named spam, how would you call it after importing spam?\n",
    "\n",
    "Ans: This function can be called with bacon.spam()"
   ]
  }
 ],
 "metadata": {
  "kernelspec": {
   "display_name": "Python 3 (ipykernel)",
   "language": "python",
   "name": "python3"
  },
  "language_info": {
   "codemirror_mode": {
    "name": "ipython",
    "version": 3
   },
   "file_extension": ".py",
   "mimetype": "text/x-python",
   "name": "python",
   "nbconvert_exporter": "python",
   "pygments_lexer": "ipython3",
   "version": "3.10.9"
  }
 },
 "nbformat": 4,
 "nbformat_minor": 5
}
