{
 "cells": [
  {
   "cell_type": "markdown",
   "id": "bd04a580",
   "metadata": {},
   "source": [
    "### Q1. In the below elements which of them are values or an expression? eg:- values can be integer or string and expressions will be mathematical operators. (* 'hello' -87.8 - / + 6)\n",
    "\n",
    "Ans1:\n",
    "\n",
    "Values (integer or strings) are: 'hello', -87.8, 6\n",
    "\n",
    "Expressions are: * , - , / , +"
   ]
  },
  {
   "cell_type": "code",
   "execution_count": null,
   "id": "f0d1bcb2",
   "metadata": {},
   "outputs": [],
   "source": []
  },
  {
   "cell_type": "markdown",
   "id": "31c8af2b",
   "metadata": {},
   "source": [
    "### Q2. What is the difference between string and variable?\n",
    "\n",
    "Ans2: \n",
    "\n",
    "String is a data type in python which can store a sequence of characters. It is used to store and manipulate text. Strings are enclosed in single quotes ('string') or double quotes (\"STRING\"). Eg: name = \"This is a string\" \n",
    "\n",
    "Variable is a named location in the computer's memory that can store a value. It allows you to assign value to a name which you can then refer to later in code. Variables can hold various types of data, including strings, numbers and more complex data structures. Eg: variable = \"Mihir\", variable2 = 789"
   ]
  },
  {
   "cell_type": "code",
   "execution_count": null,
   "id": "75b95eb6",
   "metadata": {},
   "outputs": [],
   "source": []
  },
  {
   "cell_type": "markdown",
   "id": "b22310ed",
   "metadata": {},
   "source": [
    "### Q3. Describe three different data types.\n",
    "\n",
    "Ans3:\n",
    "\n",
    "Python has various types of built-in data types which can be used to store and manipulate information. Here are some of them. \n",
    "\n",
    "1. Numeric type\n",
    "* int - represents integer values like 6, -6 and 100\n",
    "* float - represents floating point numbers with decimal values like 3.14, 5.6\n",
    "* complex - represents complex numbers with real and imaginary part like 1 + 5j\n",
    "\n",
    "\n",
    "2. String \n",
    "* str - represents a sequence of characters enclosed in single ('This is a string') or double quotes (\"This is also a string\")\n",
    "\n",
    "3. Boolean\n",
    "* Represents a logical value either True or False. This is used in logical and conditional statements.\n",
    "\n",
    "4. List \n",
    "* Represents an ordered collection of items enclosed in square brackets '[ ]' Lists can contain elements of different types and are mutable. Eg: list = ['hello', 545, 94545, 43.4,]\n",
    "\n",
    "5. Tuple\n",
    "* Represents an ordered collection of items enclosed in parentheses '()'. They can also contain elements of different types, but tuples are immutable i.e. their contents cannot be modified. Eg: tuple = ('fire' , 3.14, 95, -4)\n",
    "\n",
    "6. Dictionary\n",
    "* Represents a collection of key-value pairs enclosed in curly braces '{}'. Each key is associated with a value, alllowing you to retrieve different values based on their keys. Dictionaries are also known as associative arrays or hash maps. Eg: dict = {\"name\": \"Mihir\", \"age\": 25}\n",
    "\n",
    "7. Set\n",
    "* Represents an unordered collection of unique elements enclosed in curly braces '{}' or created using the set() function. Sets are useful for removing duplicates and performing mathematical set operations like union, intersection and difference. \n",
    "\n",
    "\n",
    "8. None\n",
    "* Represents the absence of a value. It is commonly used to indicate the absence of a meaningful result or the default value of a variable that has not been asigned a value. \n"
   ]
  },
  {
   "cell_type": "code",
   "execution_count": null,
   "id": "e5e9c447",
   "metadata": {},
   "outputs": [],
   "source": []
  },
  {
   "cell_type": "markdown",
   "id": "a0c6eaf4",
   "metadata": {},
   "source": [
    "### Q4. What is an expression made up of? What do all expressions do?\n",
    "\n",
    "Ans4: \n",
    "* An expresssion is a combination of values, variables, operators, operands and function calls that evaluates to some value. It represents a compuatation or a calculation. \n",
    "\n",
    "There are various type of expressions: \n",
    "1. Constant expression: This will return only constant value \n",
    "2. Arithmetic expression: This returns a numerical value\n",
    "3. Integral experession: This will only return value in the form of int data type. \n",
    "4. Floating expression: This will return value in the form of float data type. \n",
    "5. Relational and Logical Expression: These two will return a boolean data type. \n",
    "6. Bitwise expression: This expression wil perform computations at the bit level. \n",
    "7. Combinational expressions: When multiple expressions are used in a single expression, they are called combinational expressions. "
   ]
  },
  {
   "cell_type": "code",
   "execution_count": null,
   "id": "00772572",
   "metadata": {},
   "outputs": [],
   "source": []
  },
  {
   "cell_type": "markdown",
   "id": "6467849d",
   "metadata": {},
   "source": [
    "### Q5. This assignment statements, like spam = 10. What is the difference between an expression and a statement?\n",
    "\n",
    "Ans5. \n",
    "\n",
    "* Assignment statements like spam = 10 assign the value 10 to variable called spam. Whereas expression performs some computation and returns a single value as a result. "
   ]
  },
  {
   "cell_type": "code",
   "execution_count": null,
   "id": "0831f0c8",
   "metadata": {},
   "outputs": [],
   "source": []
  },
  {
   "cell_type": "markdown",
   "id": "f3809629",
   "metadata": {},
   "source": [
    "### Q6. After running the following code, what does the variable bacon contain?\n",
    "bacon = 22\n",
    "\n",
    "bacon + 1\n",
    "\n",
    "Ans6. bacon contains 23"
   ]
  },
  {
   "cell_type": "code",
   "execution_count": 3,
   "id": "eaec707c",
   "metadata": {},
   "outputs": [
    {
     "data": {
      "text/plain": [
       "23"
      ]
     },
     "execution_count": 3,
     "metadata": {},
     "output_type": "execute_result"
    }
   ],
   "source": [
    "bacon = 22\n",
    "\n",
    "bacon + 1"
   ]
  },
  {
   "cell_type": "code",
   "execution_count": null,
   "id": "58503db2",
   "metadata": {},
   "outputs": [],
   "source": []
  },
  {
   "cell_type": "markdown",
   "id": "d27db858",
   "metadata": {},
   "source": [
    "### Q7. What should the values of the following two terms be?\n",
    "&#39;spam&#39; + &#39;spamspam&#39;\n",
    "\n",
    "&#39;spam&#39; * 3\n",
    "\n",
    "Ans7. The value of both terms is 'spamspamspam'. The first resulst is obtained by string concatenation and the second result is obtained by string multiplication."
   ]
  },
  {
   "cell_type": "code",
   "execution_count": 4,
   "id": "04f189a4",
   "metadata": {},
   "outputs": [
    {
     "data": {
      "text/plain": [
       "'spamspamspam'"
      ]
     },
     "execution_count": 4,
     "metadata": {},
     "output_type": "execute_result"
    }
   ],
   "source": [
    "'spam' + 'spamspam'\n",
    "\n",
    "'spam' * 3"
   ]
  },
  {
   "cell_type": "markdown",
   "id": "57fea0a3",
   "metadata": {},
   "source": [
    "### Q8. Why is eggs a valid variable name while 100 is invalid?\n",
    "\n",
    "Ans8: There are rules for naming variables in python. \n",
    "\n",
    "* The variable name must start with a letter or underscore.\n",
    "* The variable name cannot start with a number\n",
    "* The variable name can only contain alphanumerics characters (A-z), (0-9) and underscores (_)\n",
    "* The variable names are case sensitive. ('age' and 'Age' are different variables.)\n",
    "\n",
    "Since 'eggs' contains letters and begins with a letter it is valid. But '100' begins with number which is invalid. "
   ]
  },
  {
   "cell_type": "code",
   "execution_count": null,
   "id": "7a242d38",
   "metadata": {},
   "outputs": [],
   "source": []
  },
  {
   "cell_type": "markdown",
   "id": "8c7a562a",
   "metadata": {},
   "source": [
    "### Q9. What three functions can be used to get the integer, floating-point number, or string version of a value?\n",
    "\n",
    "Ans9: \n",
    "\n",
    "* The functions int(), float() and str() will evaluate the integer, floating-point number and string version of a value passed on to them. "
   ]
  },
  {
   "cell_type": "code",
   "execution_count": null,
   "id": "d92f1ae6",
   "metadata": {},
   "outputs": [],
   "source": []
  },
  {
   "cell_type": "markdown",
   "id": "f9bef643",
   "metadata": {},
   "source": [
    "### Q10. Why does this expression cause an error? How can you fix it?\n",
    "\n",
    "&#39;I have eaten &#39; + 99 + &#39; burritos.&#39;\n",
    "\n",
    "Ans10: \n",
    "\n",
    "* The following expression is trying to concatenate string value and int value which is not possible. String concatenation can only be done between two or more strings. \n",
    "\n",
    "* To fix the error enclose 99 in quotaion marks like this '99' or \"99\""
   ]
  },
  {
   "cell_type": "code",
   "execution_count": 6,
   "id": "cbcb8f00",
   "metadata": {},
   "outputs": [
    {
     "ename": "TypeError",
     "evalue": "can only concatenate str (not \"int\") to str",
     "output_type": "error",
     "traceback": [
      "\u001b[1;31m---------------------------------------------------------------------------\u001b[0m",
      "\u001b[1;31mTypeError\u001b[0m                                 Traceback (most recent call last)",
      "Cell \u001b[1;32mIn[6], line 1\u001b[0m\n\u001b[1;32m----> 1\u001b[0m \u001b[38;5;124;43m'\u001b[39;49m\u001b[38;5;124;43mI have eaten \u001b[39;49m\u001b[38;5;124;43m'\u001b[39;49m\u001b[43m \u001b[49m\u001b[38;5;241;43m+\u001b[39;49m\u001b[43m \u001b[49m\u001b[38;5;241;43m99\u001b[39;49m \u001b[38;5;241m+\u001b[39m \u001b[38;5;124m'\u001b[39m\u001b[38;5;124m burritos.\u001b[39m\u001b[38;5;124m'\u001b[39m\n",
      "\u001b[1;31mTypeError\u001b[0m: can only concatenate str (not \"int\") to str"
     ]
    }
   ],
   "source": [
    "'I have eaten ' + 99 + ' burritos.'"
   ]
  },
  {
   "cell_type": "code",
   "execution_count": 8,
   "id": "86d60d8d",
   "metadata": {},
   "outputs": [
    {
     "data": {
      "text/plain": [
       "'I have eaten 99 burritos.'"
      ]
     },
     "execution_count": 8,
     "metadata": {},
     "output_type": "execute_result"
    }
   ],
   "source": [
    "'I have eaten ' + \"99\" + ' burritos.'"
   ]
  }
 ],
 "metadata": {
  "kernelspec": {
   "display_name": "Python 3 (ipykernel)",
   "language": "python",
   "name": "python3"
  },
  "language_info": {
   "codemirror_mode": {
    "name": "ipython",
    "version": 3
   },
   "file_extension": ".py",
   "mimetype": "text/x-python",
   "name": "python",
   "nbconvert_exporter": "python",
   "pygments_lexer": "ipython3",
   "version": "3.10.9"
  }
 },
 "nbformat": 4,
 "nbformat_minor": 5
}
