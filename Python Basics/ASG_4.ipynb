{
 "cells": [
  {
   "cell_type": "markdown",
   "id": "85339684",
   "metadata": {},
   "source": [
    "### 1. What exactly is []?  \n",
    "\n",
    "### Ans1\n",
    "\n",
    "### [] in python are index brackets, they are use to define lists.\n"
   ]
  },
  {
   "cell_type": "code",
   "execution_count": 1,
   "id": "6eb09443",
   "metadata": {},
   "outputs": [
    {
     "name": "stdout",
     "output_type": "stream",
     "text": [
      "<class 'list'>\n"
     ]
    }
   ],
   "source": [
    "list = [1,2,4,5]\n",
    "print(type(list))"
   ]
  },
  {
   "cell_type": "markdown",
   "id": "fb836504",
   "metadata": {},
   "source": [
    "### 2. In a list of values stored in a variable called spam, how would you assign the value &#39;hello&#39; as the third value? (Assume [2, 4, 6, 8, 10] are in spam.) Let&#39;s pretend the spam includes the list [&#39;a&#39;, &#39;b&#39;, &#39;c&#39;, &#39;d&#39;] for the next three queries.\n",
    "\n",
    "\n",
    "### Ans\n"
   ]
  },
  {
   "cell_type": "code",
   "execution_count": 2,
   "id": "7cec4716",
   "metadata": {},
   "outputs": [
    {
     "name": "stdout",
     "output_type": "stream",
     "text": [
      "hello\n"
     ]
    }
   ],
   "source": [
    "spam = [2,4,6,8,10]\n",
    "spam[2] = 'hello'\n",
    "print(spam[2])"
   ]
  },
  {
   "cell_type": "markdown",
   "id": "45f154cb",
   "metadata": {},
   "source": [
    "### 3. What is the value of spam[int(int(&#39;3&#39; * 2) / 11)]?\n",
    "\n",
    "### Ans\n",
    "\n",
    "This will return a Value error since you cannot do division operation on a string."
   ]
  },
  {
   "cell_type": "code",
   "execution_count": 3,
   "id": "33d63c77",
   "metadata": {},
   "outputs": [
    {
     "ename": "ValueError",
     "evalue": "invalid literal for int() with base 10: '3*2'",
     "output_type": "error",
     "traceback": [
      "\u001b[1;31m---------------------------------------------------------------------------\u001b[0m",
      "\u001b[1;31mValueError\u001b[0m                                Traceback (most recent call last)",
      "Cell \u001b[1;32mIn[3], line 1\u001b[0m\n\u001b[1;32m----> 1\u001b[0m spam[\u001b[38;5;28mint\u001b[39m(\u001b[38;5;28;43mint\u001b[39;49m\u001b[43m(\u001b[49m\u001b[38;5;124;43m'\u001b[39;49m\u001b[38;5;124;43m3*2\u001b[39;49m\u001b[38;5;124;43m'\u001b[39;49m\u001b[43m)\u001b[49m\u001b[38;5;241m/\u001b[39m\u001b[38;5;241m11\u001b[39m)]\n",
      "\u001b[1;31mValueError\u001b[0m: invalid literal for int() with base 10: '3*2'"
     ]
    }
   ],
   "source": [
    "spam[int(int('3*2')/11)]"
   ]
  },
  {
   "cell_type": "markdown",
   "id": "2064fbd7",
   "metadata": {},
   "source": [
    "### 4. What is the value of spam[-1]?\n",
    "\n",
    "### Ans\n",
    "\n",
    "Using negative indices you can access a list from its last element. So the value of spam[-1] will the last value in spam which is spam[4] i.e. 10"
   ]
  },
  {
   "cell_type": "code",
   "execution_count": 4,
   "id": "ec59d7da",
   "metadata": {},
   "outputs": [
    {
     "data": {
      "text/plain": [
       "10"
      ]
     },
     "execution_count": 4,
     "metadata": {},
     "output_type": "execute_result"
    }
   ],
   "source": [
    "spam[-1]"
   ]
  },
  {
   "cell_type": "markdown",
   "id": "295a0ec1",
   "metadata": {},
   "source": [
    "### 5. What is the value of spam[:2]? \n",
    "\n",
    "### Ans \n",
    "\n",
    "spam[:2] is a slicing operation. It is the same as spam[0:2] which will return values from spam[0] to spam[2] but not including spam[2]"
   ]
  },
  {
   "cell_type": "code",
   "execution_count": 6,
   "id": "64072f33",
   "metadata": {},
   "outputs": [
    {
     "data": {
      "text/plain": [
       "[2, 4]"
      ]
     },
     "execution_count": 6,
     "metadata": {},
     "output_type": "execute_result"
    }
   ],
   "source": [
    "spam[:2]"
   ]
  },
  {
   "cell_type": "markdown",
   "id": "61f41947",
   "metadata": {},
   "source": [
    "### Let&#39;s pretend bacon has the list [3.14, &#39;cat,&#39; 11, &#39;cat,&#39; True] for the next three questions.\n",
    "### 6. What is the value of bacon.index(&#39;cat&#39;)?\n",
    "\n",
    "### Ans\n",
    "\n",
    "This will return the first index which has the value 'cat'. In bacon indices 1 and 3 have that value. But 1 comes first so bacon.\n",
    "So bacon.index('cat') will return 1"
   ]
  },
  {
   "cell_type": "code",
   "execution_count": 10,
   "id": "90ca258b",
   "metadata": {},
   "outputs": [
    {
     "data": {
      "text/plain": [
       "1"
      ]
     },
     "execution_count": 10,
     "metadata": {},
     "output_type": "execute_result"
    }
   ],
   "source": [
    "bacon = [3.14, 'cat', 11, 'cat', True]\n",
    "bacon.index('cat')"
   ]
  },
  {
   "cell_type": "markdown",
   "id": "b2152dbd",
   "metadata": {},
   "source": [
    "### 7. How does bacon.append(99) change the look of the list value in bacon?\n",
    "\n",
    "### Ans\n",
    "\n",
    "This will add the value 99 after the value True in bacon. As a result bacon[4] will have the value 99"
   ]
  },
  {
   "cell_type": "code",
   "execution_count": 12,
   "id": "34f140d5",
   "metadata": {},
   "outputs": [
    {
     "name": "stdout",
     "output_type": "stream",
     "text": [
      "[3.14, 'cat', 11, 'cat', True, 99]\n"
     ]
    }
   ],
   "source": [
    "bacon.append(99)\n",
    "print(bacon)"
   ]
  },
  {
   "cell_type": "markdown",
   "id": "c937c3f2",
   "metadata": {},
   "source": [
    "### 8. How does bacon.remove(&#39;cat&#39;) change the look of the list in bacon?\n",
    "\n",
    "### Ans\n",
    "\n",
    "bacon.remove('cat') will remove the first instance of 'cat' in bacon. "
   ]
  },
  {
   "cell_type": "code",
   "execution_count": 14,
   "id": "20dbb194",
   "metadata": {},
   "outputs": [
    {
     "name": "stdout",
     "output_type": "stream",
     "text": [
      "[3.14, 11, 'cat', True, 99]\n"
     ]
    }
   ],
   "source": [
    "bacon.remove('cat')\n",
    "print(bacon)"
   ]
  },
  {
   "cell_type": "markdown",
   "id": "fc62f810",
   "metadata": {},
   "source": [
    "### 9. What are the list concatenation and list replication operators?\n",
    "\n",
    "### Ans\n",
    "\n",
    "The list concatenation operator is + and the list replication operator is *"
   ]
  },
  {
   "cell_type": "code",
   "execution_count": null,
   "id": "2020cab0",
   "metadata": {},
   "outputs": [],
   "source": []
  },
  {
   "cell_type": "code",
   "execution_count": 20,
   "id": "a2d0a886",
   "metadata": {},
   "outputs": [],
   "source": [
    "namelist = ['vivek','nilesh','mihir']\n",
    "numlist = [1,2,3,4,5]"
   ]
  },
  {
   "cell_type": "code",
   "execution_count": 21,
   "id": "f5fe1ff2",
   "metadata": {},
   "outputs": [
    {
     "name": "stdout",
     "output_type": "stream",
     "text": [
      "[1, 2, 3, 4, 5, 1, 2, 3, 4, 5, 1, 2, 3, 4, 5]\n"
     ]
    }
   ],
   "source": [
    "print(numlist*3)"
   ]
  },
  {
   "cell_type": "code",
   "execution_count": 22,
   "id": "2b52a27b",
   "metadata": {},
   "outputs": [
    {
     "name": "stdout",
     "output_type": "stream",
     "text": [
      "['vivek', 'nilesh', 'mihir', 1, 2, 3, 4, 5]\n"
     ]
    }
   ],
   "source": [
    "print(namelist + numlist)"
   ]
  },
  {
   "cell_type": "markdown",
   "id": "88110935",
   "metadata": {},
   "source": [
    "### 10. What is difference between the list methods append() and insert()?\n",
    "\n",
    "### Ans\n",
    "\n",
    "The append() method adds any value to the end of the list. Meanwhile, the insert() method adds any value to the specified place in the list. \n",
    "\n",
    "append() takes only 1 argument, while insert() takes 2 arguments"
   ]
  },
  {
   "cell_type": "code",
   "execution_count": 28,
   "id": "bd1f4458",
   "metadata": {},
   "outputs": [
    {
     "name": "stdout",
     "output_type": "stream",
     "text": [
      "['gulin', 'minseok', 'alex', 'myongbin']\n"
     ]
    }
   ],
   "source": [
    "alist= ['minseok', 'alex', 'myongbin']\n",
    "alist.insert(0,'gulin')\n",
    "print(alist)"
   ]
  },
  {
   "cell_type": "code",
   "execution_count": 29,
   "id": "9089ad44",
   "metadata": {},
   "outputs": [
    {
     "name": "stdout",
     "output_type": "stream",
     "text": [
      "['shantanu', 'dhairya', 'nandita', 'paridhi']\n"
     ]
    }
   ],
   "source": [
    "blist = ['shantanu', 'dhairya', 'nandita']\n",
    "blist.append('paridhi')\n",
    "print(blist)"
   ]
  },
  {
   "cell_type": "markdown",
   "id": "cd78ee08",
   "metadata": {},
   "source": [
    "### 11. What are the two methods for removing items from a list?\n",
    "\n",
    "### Ans \n",
    "\n",
    "There are several methods to remove items from a list. \n",
    "\n",
    "1. list.remove() - this removes the first instance of the value you pass to the remove() method\n",
    "\n",
    "2. list.pop() - this removes the value at the specified index\n",
    "\n",
    "3. del list[] - this also removes the value at the specified index\n",
    "\n",
    "4. list.clear() - this deletes the complete list"
   ]
  },
  {
   "cell_type": "code",
   "execution_count": 32,
   "id": "4d126a9a",
   "metadata": {},
   "outputs": [
    {
     "name": "stdout",
     "output_type": "stream",
     "text": [
      "['naruto', 'hinata', 'itachi', 'tsunade']\n"
     ]
    }
   ],
   "source": [
    "tlist = ['naruto', 'hinata', 'sasuke', 'itachi','tsunade']\n",
    "tlist.remove(\"sasuke\")\n",
    "print(tlist)"
   ]
  },
  {
   "cell_type": "code",
   "execution_count": 33,
   "id": "71aa5690",
   "metadata": {},
   "outputs": [
    {
     "name": "stdout",
     "output_type": "stream",
     "text": [
      "['naruto', 'hinata', 'itachi', 'tsunade']\n"
     ]
    }
   ],
   "source": [
    "tlist = ['naruto', 'hinata', 'sasuke', 'itachi','tsunade']\n",
    "tlist.pop(2)\n",
    "print(tlist)"
   ]
  },
  {
   "cell_type": "code",
   "execution_count": 34,
   "id": "230d124e",
   "metadata": {},
   "outputs": [
    {
     "name": "stdout",
     "output_type": "stream",
     "text": [
      "['naruto', 'sasuke', 'itachi', 'tsunade']\n"
     ]
    }
   ],
   "source": [
    "tlist = ['naruto', 'hinata', 'sasuke', 'itachi','tsunade']\n",
    "del tlist[1]\n",
    "print(tlist)"
   ]
  },
  {
   "cell_type": "code",
   "execution_count": 35,
   "id": "5debfdfd",
   "metadata": {},
   "outputs": [
    {
     "name": "stdout",
     "output_type": "stream",
     "text": [
      "[]\n"
     ]
    }
   ],
   "source": [
    "tlist = ['naruto', 'hinata', 'sasuke', 'itachi','tsunade']\n",
    "tlist.clear()\n",
    "print(tlist)"
   ]
  },
  {
   "cell_type": "markdown",
   "id": "4788f295",
   "metadata": {},
   "source": [
    "### 12. Describe how list values and string values are identical.\n",
    "\n",
    "### Ans\n",
    "\n",
    "List and string values are identical in the sense that you can carry out the same operations on both. \n",
    "\n",
    "1. Indexing: You can use indexing to access individual elements in both lists and strings\n",
    "\n",
    "2. Slicing: They both also support slicing to get a subset of elements\n",
    "\n",
    "3. Length: The len() function can find the length of both strings and lists\n",
    "\n",
    "4. Concatenation: You can concatenate them both using '+'\n",
    "\n",
    "5. Iteration: You can use loops to iterate over elements of both strings and lists\n",
    "\n"
   ]
  },
  {
   "cell_type": "code",
   "execution_count": 36,
   "id": "f0cf6690",
   "metadata": {},
   "outputs": [
    {
     "name": "stdout",
     "output_type": "stream",
     "text": [
      "n\n",
      "3.14\n"
     ]
    }
   ],
   "source": [
    "s = \"Ninjutsu\"\n",
    "lst = [123, 'sharingan', 3.14, 101]\n",
    "print(s[2])\n",
    "print(lst[2])"
   ]
  },
  {
   "cell_type": "code",
   "execution_count": 41,
   "id": "f2e17538",
   "metadata": {},
   "outputs": [
    {
     "name": "stdout",
     "output_type": "stream",
     "text": [
      "Length of string named 's' is 8\n",
      "Length of lst named 'lst' is 4\n"
     ]
    }
   ],
   "source": [
    "print(f\"Length of string named 's' is {len(s)}\")\n",
    "print(f\"Length of lst named 'lst' is {len(lst)}\")"
   ]
  },
  {
   "cell_type": "code",
   "execution_count": 46,
   "id": "6d873044",
   "metadata": {},
   "outputs": [
    {
     "name": "stdout",
     "output_type": "stream",
     "text": [
      "Slicing string s: inju\n",
      "Slicing list lst: [123, 'sharingan', 3.14]\n"
     ]
    }
   ],
   "source": [
    "print(f\"Slicing string s: {s[1:5]}\")\n",
    "print(f\"Slicing list lst: {lst[0:3]}\")"
   ]
  },
  {
   "cell_type": "code",
   "execution_count": 48,
   "id": "2b5fff48",
   "metadata": {},
   "outputs": [
    {
     "name": "stdout",
     "output_type": "stream",
     "text": [
      "Concatenation of a string: NinjutsuNinjutsu\n",
      "Concatenation of a list: [123, 'sharingan', 3.14, 101, 123, 'sharingan', 3.14, 101]\n"
     ]
    }
   ],
   "source": [
    "print(f\"Concatenation of a string: {s+s}\")\n",
    "print(f\"Concatenation of a list: {lst+lst}\")"
   ]
  },
  {
   "cell_type": "code",
   "execution_count": 52,
   "id": "7f716556",
   "metadata": {},
   "outputs": [
    {
     "name": "stdout",
     "output_type": "stream",
     "text": [
      "N\n",
      "i\n",
      "n\n",
      "j\n",
      "u\n",
      "t\n",
      "s\n",
      "u\n"
     ]
    }
   ],
   "source": [
    "for i in s: \n",
    "    print(i)"
   ]
  },
  {
   "cell_type": "code",
   "execution_count": 53,
   "id": "3dfbf599",
   "metadata": {},
   "outputs": [
    {
     "name": "stdout",
     "output_type": "stream",
     "text": [
      "123\n",
      "sharingan\n",
      "3.14\n",
      "101\n"
     ]
    }
   ],
   "source": [
    "for i in lst: \n",
    "    print(i)"
   ]
  },
  {
   "cell_type": "markdown",
   "id": "a0cf4d7a",
   "metadata": {},
   "source": [
    "### 13. What&#39;s the difference between tuples and lists?\n",
    "\n",
    "### Ans\n",
    "\n",
    "We declare tuples using paretheses () while lists are declared using the square brackets [].\n",
    "\n",
    "Other than that the main difference is lists are mutable while tuples are not. "
   ]
  },
  {
   "cell_type": "code",
   "execution_count": 54,
   "id": "7407277a",
   "metadata": {},
   "outputs": [
    {
     "name": "stdout",
     "output_type": "stream",
     "text": [
      "<class 'list'> <class 'tuple'>\n"
     ]
    }
   ],
   "source": [
    "klist = [1,2,3,4,5,6,789]\n",
    "ktuple = (1,2,3,4,5,6,789)\n",
    "\n",
    "print(type(klist), type(ktuple))"
   ]
  },
  {
   "cell_type": "code",
   "execution_count": 55,
   "id": "1be95800",
   "metadata": {},
   "outputs": [
    {
     "name": "stdout",
     "output_type": "stream",
     "text": [
      "[1, 2, 3, 4, 5, 6, 789, 'new element']\n"
     ]
    }
   ],
   "source": [
    "klist.append(\"new element\")\n",
    "print(klist)"
   ]
  },
  {
   "cell_type": "code",
   "execution_count": 57,
   "id": "3e4819c8",
   "metadata": {},
   "outputs": [
    {
     "ename": "AttributeError",
     "evalue": "'tuple' object has no attribute 'append'",
     "output_type": "error",
     "traceback": [
      "\u001b[1;31m---------------------------------------------------------------------------\u001b[0m",
      "\u001b[1;31mAttributeError\u001b[0m                            Traceback (most recent call last)",
      "Cell \u001b[1;32mIn[57], line 1\u001b[0m\n\u001b[1;32m----> 1\u001b[0m \u001b[43mktuple\u001b[49m\u001b[38;5;241;43m.\u001b[39;49m\u001b[43mappend\u001b[49m(\u001b[38;5;124m\"\u001b[39m\u001b[38;5;124mnew element\u001b[39m\u001b[38;5;124m\"\u001b[39m)\n\u001b[0;32m      2\u001b[0m \u001b[38;5;28mprint\u001b[39m(ktuple)\n\u001b[0;32m      4\u001b[0m \u001b[38;5;66;03m# We get this error since lists are not mutable and we cannot append elements to it\u001b[39;00m\n",
      "\u001b[1;31mAttributeError\u001b[0m: 'tuple' object has no attribute 'append'"
     ]
    }
   ],
   "source": [
    "ktuple.append(\"new element\")\n",
    "print(ktuple)\n",
    "\n",
    "# We get this error since lists are not mutable and we cannot append elements to it"
   ]
  },
  {
   "cell_type": "markdown",
   "id": "2b2cc2ab",
   "metadata": {},
   "source": [
    "### 14. How do you type a tuple value that only contains the integer 42?\n",
    "\n",
    "### Ans\n",
    "\n",
    "To create a tuple which only contains the integer 42 we must type tuple = (42,)\n",
    "\n",
    "We need to add a comma after 42 to create it as a tuple otherwise it will be created as an integer"
   ]
  },
  {
   "cell_type": "code",
   "execution_count": 63,
   "id": "7806fa99",
   "metadata": {},
   "outputs": [
    {
     "name": "stdout",
     "output_type": "stream",
     "text": [
      "<class 'int'>\n",
      "42\n"
     ]
    }
   ],
   "source": [
    "tuple14 = (42)\n",
    "print(type(tuple14))\n",
    "print(tuple14)"
   ]
  },
  {
   "cell_type": "code",
   "execution_count": 62,
   "id": "f75bf479",
   "metadata": {},
   "outputs": [
    {
     "name": "stdout",
     "output_type": "stream",
     "text": [
      "<class 'tuple'>\n",
      "(42,)\n"
     ]
    }
   ],
   "source": [
    "tuple14 = (42,)\n",
    "print(type(tuple14))\n",
    "print(tuple14)"
   ]
  },
  {
   "cell_type": "markdown",
   "id": "ef213add",
   "metadata": {},
   "source": [
    "### 15. How do you get a list value&#39;s tuple form? How do you get a tuple value&#39;s list form?\n",
    "\n",
    "### Ans\n",
    "\n",
    "We can use the built-in functions list() and tuple() to achieve this"
   ]
  },
  {
   "cell_type": "code",
   "execution_count": 64,
   "id": "f9fd2cc8",
   "metadata": {},
   "outputs": [
    {
     "name": "stdout",
     "output_type": "stream",
     "text": [
      "<class 'tuple'> <class 'list'>\n"
     ]
    }
   ],
   "source": [
    "tuple15 = (\"ninja\", 245, 3.14, 'jutsu')\n",
    "list15 = ['gojo', 'itadori', 'okkotsu','Ryomen Sukuna']\n",
    "\n",
    "print(type(tuple15), type(list15))"
   ]
  },
  {
   "cell_type": "code",
   "execution_count": 65,
   "id": "3e25b9a1",
   "metadata": {},
   "outputs": [
    {
     "name": "stdout",
     "output_type": "stream",
     "text": [
      "<class 'list'>\n"
     ]
    }
   ],
   "source": [
    "l15new = list(tuple15)\n",
    "print(type(l15new))"
   ]
  },
  {
   "cell_type": "code",
   "execution_count": 66,
   "id": "1c82dc42",
   "metadata": {},
   "outputs": [
    {
     "name": "stdout",
     "output_type": "stream",
     "text": [
      "<class 'tuple'>\n"
     ]
    }
   ],
   "source": [
    "t15new = tuple(list15)\n",
    "print(type(t15new))"
   ]
  },
  {
   "cell_type": "markdown",
   "id": "8b1d6bb8",
   "metadata": {},
   "source": [
    "### 16. Variables that &quot;contain&quot; list values are not necessarily lists themselves. Instead, what do they contain?"
   ]
  },
  {
   "cell_type": "markdown",
   "id": "4a30727c",
   "metadata": {},
   "source": [
    "### Ans\n",
    "\n",
    "Variables that contain the list values are not lists themselves. They contain a reference to the list. This reference points to the memory location where the list is stored. "
   ]
  },
  {
   "cell_type": "code",
   "execution_count": 69,
   "id": "089c1a5e",
   "metadata": {},
   "outputs": [
    {
     "name": "stdout",
     "output_type": "stream",
     "text": [
      "[1, 2, 3, 4]\n",
      "[1, 2, 3, 4]\n"
     ]
    }
   ],
   "source": [
    "my_list = [1, 2, 3]\n",
    "\n",
    "another_list = my_list\n",
    "another_list.append(4)\n",
    "\n",
    "print(my_list)  \n",
    "print(another_list)  \n"
   ]
  },
  {
   "cell_type": "markdown",
   "id": "46f27d9c",
   "metadata": {},
   "source": [
    "### 17. How do you distinguish between copy.copy() and copy.deepcopy()?"
   ]
  },
  {
   "cell_type": "markdown",
   "id": "9e91e35d",
   "metadata": {},
   "source": [
    "### Ans \n",
    "\n",
    "Copy is a module which contains the .copy() and .deepcopy() methods. These are perform different tasks\n",
    "\n",
    "copy.copy() also known as shallow copy constructs a new compound object and inserts references into it to the objects found in the original. Changes to any element will also change the element in the original object as long as the object is mutable\n",
    "\n",
    "copy.deepcopy() also constructs a new compound object but instead of references copies the actual objects found in the original object. Changes to any element wil not change the element in the original object. \n",
    "\n",
    "### Mutable Objects\n",
    "1. List\n",
    "2. Dictionary\n",
    "3. Set\n",
    "\n",
    "### Immutable Objects\n",
    "1. Integer\n",
    "2. Float \n",
    "3. String\n",
    "4. Tuple\n",
    "5. Boolean \n",
    "6. Frozen Sets\n",
    "7. Comlex Numbers"
   ]
  },
  {
   "cell_type": "code",
   "execution_count": 92,
   "id": "982220da",
   "metadata": {},
   "outputs": [
    {
     "name": "stdout",
     "output_type": "stream",
     "text": [
      "[[1, 2, 3], ['panther', 34], [1, 2, 3, 4, 5]]\n",
      "[[1, 2, 3], ['panther', 34], [1, 2, 3, 4, 5]]\n"
     ]
    }
   ],
   "source": [
    "original = [[1,2],[\"panther\", 34], [1,2,3,4,5]]\n",
    "shallow = copy.copy(original)\n",
    "\n",
    "shallow[0].append(3)\n",
    "\n",
    "print(original)\n",
    "print(shallow)"
   ]
  },
  {
   "cell_type": "code",
   "execution_count": 93,
   "id": "4d1c47cc",
   "metadata": {},
   "outputs": [
    {
     "name": "stdout",
     "output_type": "stream",
     "text": [
      "[[1, 2], ['panther', 34], [1, 2, 3, 4, 5]]\n",
      "[[1, 2, 3], ['panther', 34], [1, 2, 3, 4, 5]]\n"
     ]
    }
   ],
   "source": [
    "original = [[1,2],[\"panther\", 34], [1,2,3,4,5]]\n",
    "deep = copy.deepcopy(original)\n",
    "\n",
    "deep[0].append(3)\n",
    "\n",
    "print(original)\n",
    "print(deep)"
   ]
  },
  {
   "cell_type": "code",
   "execution_count": null,
   "id": "6d6a3478",
   "metadata": {},
   "outputs": [],
   "source": []
  }
 ],
 "metadata": {
  "kernelspec": {
   "display_name": "Python 3 (ipykernel)",
   "language": "python",
   "name": "python3"
  },
  "language_info": {
   "codemirror_mode": {
    "name": "ipython",
    "version": 3
   },
   "file_extension": ".py",
   "mimetype": "text/x-python",
   "name": "python",
   "nbconvert_exporter": "python",
   "pygments_lexer": "ipython3",
   "version": "3.11.3"
  }
 },
 "nbformat": 4,
 "nbformat_minor": 5
}
